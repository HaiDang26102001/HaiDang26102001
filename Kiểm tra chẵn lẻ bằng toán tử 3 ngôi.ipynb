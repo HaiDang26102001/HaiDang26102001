{
 "cells": [
  {
   "cell_type": "code",
   "execution_count": 1,
   "id": "18bcded6",
   "metadata": {},
   "outputs": [
    {
     "name": "stdout",
     "output_type": "stream",
     "text": [
      "Nhập số: 3\n",
      "Số lẻ\n"
     ]
    }
   ],
   "source": [
    "a = int(input('Nhập số: '))\n",
    "print('Số chẵn') if a % 2 == 0 else print('Số lẻ')"
   ]
  },
  {
   "cell_type": "code",
   "execution_count": null,
   "id": "319d901f",
   "metadata": {},
   "outputs": [],
   "source": []
  }
 ],
 "metadata": {
  "kernelspec": {
   "display_name": "Python 3 (ipykernel)",
   "language": "python",
   "name": "python3"
  },
  "language_info": {
   "codemirror_mode": {
    "name": "ipython",
    "version": 3
   },
   "file_extension": ".py",
   "mimetype": "text/x-python",
   "name": "python",
   "nbconvert_exporter": "python",
   "pygments_lexer": "ipython3",
   "version": "3.10.4"
  }
 },
 "nbformat": 4,
 "nbformat_minor": 5
}
