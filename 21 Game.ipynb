{
 "cells": [
  {
   "cell_type": "code",
   "execution_count": null,
   "id": "aa0387db",
   "metadata": {},
   "outputs": [],
   "source": [
    "from random import randint\n",
    "computer = 0\n",
    "first_play = randint(0,1)\n",
    "tong = 0\n",
    "# Lựa chọn xem ai chơi trước\n",
    "\n",
    "if first_play == 0:\n",
    "\twhile tong <= 21:\n",
    "\t\tprint('Computer choose: ',computer := randint(1,3))\n",
    "\t\ttong += computer\n",
    "\t\tif tong >= 21:\n",
    "\t\t\tprint('Human win')\n",
    "\t\t\tbreak\n",
    "\t\twhile True:\n",
    "\t\t\tyou = int(input('Your choose: '))\n",
    "\t\t\tif 1 <= you <= 3:\n",
    "\t\t\t\tbreak\n",
    "\t\t\telse:\n",
    "\t\t\t\tprint('Retype')\n",
    "\t\ttong += you\n",
    "\t\tif tong >= 21:\n",
    "\t\t\tprint('Computer wins')\n",
    "\t\t\tbreak\n",
    "if first_play == 1:\n",
    "\twhile tong <= 21:\n",
    "\t\twhile True:\n",
    "\t\t\tyou = int(input('Your choose: '))\n",
    "\t\t\tif 1 <= you <= 3:\n",
    "\t\t\t\tbreak\n",
    "\t\t\telse:\n",
    "\t\t\t\tprint('Retype')\n",
    "\t\ttong += you\n",
    "\t\tif tong >= 21:\n",
    "\t\t\tprint('Computer wins')\n",
    "\t\t\tbreak\n",
    "\t\tprint('Computer choose: ',computer := randint(1,3))\n",
    "\t\ttong += computer\n",
    "\t\tif tong >= 21:\n",
    "\t\t\tprint('Human win')\n",
    "\t\t\tbreak"
   ]
  }
 ],
 "metadata": {
  "kernelspec": {
   "display_name": "Python 3 (ipykernel)",
   "language": "python",
   "name": "python3"
  },
  "language_info": {
   "codemirror_mode": {
    "name": "ipython",
    "version": 3
   },
   "file_extension": ".py",
   "mimetype": "text/x-python",
   "name": "python",
   "nbconvert_exporter": "python",
   "pygments_lexer": "ipython3",
   "version": "3.10.4"
  }
 },
 "nbformat": 4,
 "nbformat_minor": 5
}
