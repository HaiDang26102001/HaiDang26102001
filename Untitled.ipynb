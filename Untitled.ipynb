{
 "cells": [
  {
   "cell_type": "code",
   "execution_count": 2,
   "id": "4af51d98",
   "metadata": {},
   "outputs": [
    {
     "name": "stdout",
     "output_type": "stream",
     "text": [
      "Nhap so : 5\n",
      "Tre trau\n"
     ]
    }
   ],
   "source": [
    "n = int(input('Nhap so : '))\n",
    "if n < 18:\n",
    "    print('Tre trau')\n",
    "    \n"
   ]
  },
  {
   "cell_type": "code",
   "execution_count": null,
   "id": "02fe953e",
   "metadata": {},
   "outputs": [],
   "source": [
    "ngay = int(input('Nhap so lan muon noi: '))\n",
    "while ngay =< 5:\n",
    "    print('Anh yeu em nhieu lam')"
   ]
  },
  {
   "cell_type": "code",
   "execution_count": 1,
   "id": "40391d07",
   "metadata": {},
   "outputs": [
    {
     "ename": "AttributeError",
     "evalue": "'list' object has no attribute 'split'",
     "output_type": "error",
     "traceback": [
      "\u001b[1;31m---------------------------------------------------------------------------\u001b[0m",
      "\u001b[1;31mAttributeError\u001b[0m                            Traceback (most recent call last)",
      "Input \u001b[1;32mIn [1]\u001b[0m, in \u001b[0;36m<cell line: 2>\u001b[1;34m()\u001b[0m\n\u001b[0;32m      1\u001b[0m a \u001b[38;5;241m=\u001b[39m [\u001b[38;5;124m'\u001b[39m\u001b[38;5;124mPham Dam Hai Dang\u001b[39m\u001b[38;5;124m'\u001b[39m]\n\u001b[1;32m----> 2\u001b[0m \u001b[43ma\u001b[49m\u001b[38;5;241;43m.\u001b[39;49m\u001b[43msplit\u001b[49m()\n\u001b[0;32m      3\u001b[0m \u001b[38;5;28mprint\u001b[39m(a)\n",
      "\u001b[1;31mAttributeError\u001b[0m: 'list' object has no attribute 'split'"
     ]
    }
   ],
   "source": [
    "a = ['Pham Dam Hai Dang']\n",
    "a.split()\n",
    "print(a)"
   ]
  },
  {
   "cell_type": "code",
   "execution_count": 8,
   "id": "38ea1222",
   "metadata": {},
   "outputs": [
    {
     "name": "stdout",
     "output_type": "stream",
     "text": [
      "Nhập số cần kiểm tra: 9\n",
      "n là số chính phương\n"
     ]
    }
   ],
   "source": [
    "n = int(input('Nhập số cần kiểm tra: '))\n",
    "\n",
    "import math\n",
    "if math.sqrt(n) - math.trunc(math.sqrt(n)) == 0:\n",
    "\tprint('n là số chính phương')\n",
    "else:\n",
    "\tprint('n không phải là số chính phương')"
   ]
  },
  {
   "cell_type": "code",
   "execution_count": null,
   "id": "6f6c6a8a",
   "metadata": {},
   "outputs": [],
   "source": [
    "n = int(input('Nhập số cần kiểm tra: '))\n",
    "from random import randint\n",
    "m = randint(2,n-1)\n",
    "if n == 0 or n == 1:\n",
    "    print('n là hợp số')\n",
    "else:\n",
    "    if n % m == 0:\n",
    "        print('n là hợp số')\n",
    "    else:\n",
    "        print(n,' là số nguyên tố')"
   ]
  },
  {
   "cell_type": "code",
   "execution_count": null,
   "id": "592bb59a",
   "metadata": {},
   "outputs": [],
   "source": [
    "n = int(input('Nhập số cần kiểm tra: '))\n",
    "from random import randint\n",
    "m = randint(2,n-1)\n",
    "\n"
   ]
  },
  {
   "cell_type": "code",
   "execution_count": null,
   "id": "2fd52131",
   "metadata": {},
   "outputs": [],
   "source": []
  }
 ],
 "metadata": {
  "kernelspec": {
   "display_name": "Python 3 (ipykernel)",
   "language": "python",
   "name": "python3"
  },
  "language_info": {
   "codemirror_mode": {
    "name": "ipython",
    "version": 3
   },
   "file_extension": ".py",
   "mimetype": "text/x-python",
   "name": "python",
   "nbconvert_exporter": "python",
   "pygments_lexer": "ipython3",
   "version": "3.10.4"
  }
 },
 "nbformat": 4,
 "nbformat_minor": 5
}
