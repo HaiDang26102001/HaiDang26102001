{
 "cells": [
  {
   "cell_type": "code",
   "execution_count": null,
   "id": "c73342e9",
   "metadata": {},
   "outputs": [],
   "source": [
    "import math\n",
    "import turtle \n",
    "t = turtle.Turtle()\n",
    "turtle.Screen().bgcolor('Black')\n",
    "i = 0\n",
    "t.speed(0)\n",
    "\n",
    "for i in range(6):\n",
    "    for i in range(2):\n",
    "        t.color('Red')\n",
    "        t.circle(100,90)\n",
    "        t.circle(50,90)\n",
    "    t.lt(10)\n",
    "\n",
    "    for i in range(2):\n",
    "        t.color('Blue')\n",
    "        t.circle(100,90)\n",
    "        t.circle(50,90)\n",
    "    t.lt(10)\n",
    "\n",
    "    for i in range(2):\n",
    "        t.color('Green')\n",
    "        t.circle(100,90)\n",
    "        t.circle(50,90)\n",
    "    t.lt(10)\n",
    "\n",
    "    for i in range(2):\n",
    "        t.color('Yellow')\n",
    "        t.circle(100,90)\n",
    "        t.circle(50,90)\n",
    "    t.lt(10)\n",
    "\n",
    "    for i in range(2):\n",
    "        t.color('White')\n",
    "        t.circle(100,90)\n",
    "        t.circle(50,90)\n",
    "    t.lt(10)\n",
    "\n",
    "    for i in range(2):\n",
    "        t.color('Pink')\n",
    "        t.circle(100,90)\n",
    "        t.circle(50,90)\n",
    "    t.lt(10)"
   ]
  }
 ],
 "metadata": {
  "kernelspec": {
   "display_name": "Python 3 (ipykernel)",
   "language": "python",
   "name": "python3"
  },
  "language_info": {
   "codemirror_mode": {
    "name": "ipython",
    "version": 3
   },
   "file_extension": ".py",
   "mimetype": "text/x-python",
   "name": "python",
   "nbconvert_exporter": "python",
   "pygments_lexer": "ipython3",
   "version": "3.10.4"
  }
 },
 "nbformat": 4,
 "nbformat_minor": 5
}
