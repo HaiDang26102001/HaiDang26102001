{
 "cells": [
  {
   "cell_type": "code",
   "execution_count": 8,
   "id": "430cef3d",
   "metadata": {},
   "outputs": [
    {
     "name": "stdout",
     "output_type": "stream",
     "text": [
      "Nhập số cần kiểm tra: 8\n",
      "0\n",
      "<class 'int'>\n"
     ]
    }
   ],
   "source": [
    "n = int(input('Nhập số cần kiểm tra: '))\n",
    "from random import randint\n",
    "m = randint(2,n-1)\n",
    "\n",
    "a = n % m \n",
    "print(a)\n",
    "print(type(a))"
   ]
  },
  {
   "cell_type": "code",
   "execution_count": null,
   "id": "2d9f1c87",
   "metadata": {},
   "outputs": [],
   "source": [
    "n = int(input('Nhập số cần kiểm tra: '))\n",
    "m = 2\n",
    "a = 1\n",
    "while m =< n-1:\n",
    "    if n % m == 0:\n",
    "        print()\n",
    "    \n",
    "    \n",
    "if n == 0 or n == 1:\n",
    "    print('n là hợp số')\n",
    "else:\n",
    "    if n % m == 0:\n",
    "        print('n là hợp số')\n",
    "    else:\n",
    "        print(n,' là số nguyên tố')"
   ]
  }
 ],
 "metadata": {
  "kernelspec": {
   "display_name": "Python 3 (ipykernel)",
   "language": "python",
   "name": "python3"
  },
  "language_info": {
   "codemirror_mode": {
    "name": "ipython",
    "version": 3
   },
   "file_extension": ".py",
   "mimetype": "text/x-python",
   "name": "python",
   "nbconvert_exporter": "python",
   "pygments_lexer": "ipython3",
   "version": "3.10.4"
  }
 },
 "nbformat": 4,
 "nbformat_minor": 5
}
