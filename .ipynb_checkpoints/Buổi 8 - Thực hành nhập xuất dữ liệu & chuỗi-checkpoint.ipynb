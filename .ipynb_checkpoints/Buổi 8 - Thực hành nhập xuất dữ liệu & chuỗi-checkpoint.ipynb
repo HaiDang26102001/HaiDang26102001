{
 "cells": [
  {
   "cell_type": "markdown",
   "id": "5bc93fb0",
   "metadata": {},
   "source": [
    "# Thực hành nhập xuất dữ liệu & chuỗi\n",
    "\n",
    "### Bài tập tra cứu lệnh\n",
    "\n",
    "Nhập vào một chuỗi, kiểm tra xem chuỗi đó có ký tự nào là chữ in hoa hay không, nếu có thì in True, không có thì in False"
   ]
  },
  {
   "cell_type": "code",
   "execution_count": 4,
   "id": "4b3df2ba",
   "metadata": {},
   "outputs": [
    {
     "name": "stdout",
     "output_type": "stream",
     "text": [
      "Nhập chuỗi: Đăng\n",
      "True\n"
     ]
    }
   ],
   "source": [
    "# Cách 1\n",
    "a = input('Nhập chuỗi: ')\n",
    "dem = 0\n",
    "for i in a:\n",
    "    if i.upper() == i :\n",
    "        dem += 1\n",
    "if dem == 0:\n",
    "    print(False)\n",
    "else:\n",
    "    print(True)\n",
    "    \n",
    "# Cách 2\n",
    "a = input('Nhập chuỗi: ')\n",
    "dem = 0\n",
    "k = 0\n",
    "b = 0\n",
    "for i in range(len(a)):\n",
    "    b = a[k]\n",
    "    k += 1\n",
    "    if b.upper() == b:\n",
    "        dem += 1\n",
    "if dem == 0:\n",
    "    print(False)\n",
    "else:\n",
    "    print(True)\n",
    "    \n",
    "\n",
    "# Cách 3: sử dụng islower()\n",
    "# islower sẽ trả về true nếu tất cả là chuỗi viết thường\n",
    "\n",
    "a = input('Nhập chuỗi: ')\n",
    "print(not a.islower())\n",
    "    \n",
    "  "
   ]
  },
  {
   "cell_type": "markdown",
   "id": "e14eae7c",
   "metadata": {},
   "source": [
    "Nhập vào một chuỗi, kiểm tra xem chuỗi đó có ký tự nào là chữ in thường hay không, nếu có thì in True, không có thì in False"
   ]
  },
  {
   "cell_type": "code",
   "execution_count": 5,
   "id": "ab00180c",
   "metadata": {},
   "outputs": [
    {
     "name": "stdout",
     "output_type": "stream",
     "text": [
      "Nhập chuỗi: ĐĂNG\n",
      "False\n"
     ]
    }
   ],
   "source": [
    "# Cách 1\n",
    "a = input('Nhập chuỗi: ')\n",
    "dem = 0\n",
    "for i in a:\n",
    "    if i.lower() == i :\n",
    "        dem += 1\n",
    "if dem == 0:\n",
    "    print(False)\n",
    "else:\n",
    "    print(True)\n",
    "\n",
    "# Cách 2    \n",
    "a = input('Nhập chuỗi: ')\n",
    "dem = 0\n",
    "k = 0\n",
    "b = 0\n",
    "for i in range(len(a)):\n",
    "    b = a[k]\n",
    "    k += 1\n",
    "    if b.lower() == b:\n",
    "        dem += 1\n",
    "if dem == 0:\n",
    "    print(False)\n",
    "else:\n",
    "    print(True)\n",
    "    \n",
    "\n",
    "# Cách 3: sử dụng isupper\n",
    "a = input('Nhập chuỗi: ')\n",
    "print( not a.upper())"
   ]
  },
  {
   "cell_type": "markdown",
   "id": "eab86ecf",
   "metadata": {},
   "source": [
    "Nhập vào một chuỗi a và chuỗi b, tìm vị trí đầu tiên xuất hiện chuỗi b trong chuỗi a"
   ]
  },
  {
   "cell_type": "code",
   "execution_count": 11,
   "id": "051eb4af",
   "metadata": {},
   "outputs": [
    {
     "name": "stdout",
     "output_type": "stream",
     "text": [
      "Nhập chuỗi a: đăng\n",
      "Nhập chuỗi b: n\n",
      "2\n"
     ]
    }
   ],
   "source": [
    "a = input('Nhập chuỗi a: ')\n",
    "b = input('Nhập chuỗi b: ')\n",
    "\n",
    "print(a.find(b))"
   ]
  },
  {
   "cell_type": "markdown",
   "id": "9239bc4e",
   "metadata": {},
   "source": [
    "Nhập vào một chuỗi a, hãy xóa từ đầu tiên trong chuỗi a, rồi in ra màn hình"
   ]
  },
  {
   "cell_type": "code",
   "execution_count": 12,
   "id": "90967cd9",
   "metadata": {},
   "outputs": [
    {
     "name": "stdout",
     "output_type": "stream",
     "text": [
      "Nhập chuỗi a: Hải Đăng\n",
      "Hải\n"
     ]
    }
   ],
   "source": [
    "a = input('Nhập chuỗi a: ')\n",
    "print(a[:a.find(' ')])"
   ]
  },
  {
   "cell_type": "markdown",
   "id": "05b74fb4",
   "metadata": {},
   "source": [
    "### Bài 1\n",
    "\n",
    "Nhập vào một chuỗi, đếm xem có bao nhiêu từ trong chuỗi kết thúc bằng chữ n"
   ]
  },
  {
   "cell_type": "code",
   "execution_count": 1,
   "id": "d126675c",
   "metadata": {},
   "outputs": [
    {
     "name": "stdout",
     "output_type": "stream",
     "text": [
      "Nhập chuỗi: VuNgoc Linh\n",
      "Số từ trong chuỗi kết thúc bằng chữ n là: 0\n"
     ]
    }
   ],
   "source": [
    "a = input('Nhập chuỗi: ')\n",
    "b = 0\n",
    "c = 0\n",
    "dem = 0\n",
    "for i in range(a.count(' ')):\n",
    "    b = a[:a.find(' ')]\n",
    "    if b[-1] == 'n':\n",
    "        dem += 1\n",
    "    a = a[a.find(' ')+1:]\n",
    "if a[-1] == 'n':\n",
    "    dem += 1\n",
    "print('Số từ trong chuỗi kết thúc bằng chữ n là:',dem)\n",
    "\n",
    "\n"
   ]
  },
  {
   "cell_type": "markdown",
   "id": "53a78d35",
   "metadata": {},
   "source": [
    "### Bài 2\n",
    "\n",
    "Nhập vào một chuỗi, kiểm tra xem chuỗi đó có ký tự hoa hoặc ký tự thường hay không."
   ]
  },
  {
   "cell_type": "code",
   "execution_count": 5,
   "id": "f5be8c39",
   "metadata": {},
   "outputs": [
    {
     "name": "stdout",
     "output_type": "stream",
     "text": [
      "Nhập chuỗi: Phạm\n",
      "Chuỗi có kí tự hoa\n",
      "Chuỗi có kí tự thường\n"
     ]
    }
   ],
   "source": [
    "chuoi = input('Nhập chuỗi: ')\n",
    "DemHoa = 0\n",
    "DemThuong = 0\n",
    "for i in chuoi:\n",
    "    if i.upper() == i:\n",
    "        DemHoa += 1\n",
    "    elif i.lower() == i :\n",
    "        DemThuong += 1\n",
    "if DemHoa != 0:\n",
    "    print('Chuỗi có kí tự hoa')\n",
    "if DemThuong != 0:\n",
    "    print('Chuỗi có kí tự thường')\n",
    "        "
   ]
  },
  {
   "cell_type": "markdown",
   "id": "64ca662e",
   "metadata": {},
   "source": [
    "### Bài 3\n",
    "\n",
    "Nhập vào một chuỗi, kiểm tra tính đối xứng của chuỗi đó"
   ]
  },
  {
   "cell_type": "code",
   "execution_count": 8,
   "id": "749f4136",
   "metadata": {},
   "outputs": [
    {
     "name": "stdout",
     "output_type": "stream",
     "text": [
      "Nhập chuỗi: đăng\n",
      "Chuỗi đăng không đối xứng\n"
     ]
    }
   ],
   "source": [
    "chuoi = input('Nhập chuỗi: ')\n",
    "if chuoi == chuoi[::-1]:\n",
    "    print('Chuỗi',chuoi,'là chuỗi đối xứng')\n",
    "else:\n",
    "    print('Chuỗi',chuoi,'không đối xứng')\n",
    "\n",
    "# cách 2\n",
    "chuoi = input('Nhập chuỗi: ')\n",
    "print('Chuỗi',chuoi,'là chuỗi đối xứng',chuoi == chuoi[::-1])\n",
    "print('Chuỗi',chuoi,'không đối xứng',chuoi != chuoi[::-1])"
   ]
  },
  {
   "cell_type": "markdown",
   "id": "85dd8fef",
   "metadata": {},
   "source": [
    "### Bài 4\n",
    "\n",
    "Nhập vào một chuỗi, in ra các ký tự trong chuỗi và nếu là ký tự hoa thì in kèm True, ký tự thường thì in kèm False"
   ]
  },
  {
   "cell_type": "code",
   "execution_count": 1,
   "id": "0d099247",
   "metadata": {},
   "outputs": [
    {
     "name": "stdout",
     "output_type": "stream",
     "text": [
      "Nhập chuỗi: sdfasd111\n",
      "s False\n",
      "d False\n",
      "f False\n",
      "a False\n",
      "s False\n",
      "d False\n",
      "1\n",
      "1\n",
      "1\n"
     ]
    }
   ],
   "source": [
    "chuoi = input('Nhập chuỗi: ')\n",
    "for i in chuoi: \n",
    "    if i.isnumeric() == True:\n",
    "        print(i)\n",
    "    else:\n",
    "        if i.upper() == i:\n",
    "            print(i,True)\n",
    "        else:\n",
    "            print(i,False)\n",
    "    "
   ]
  },
  {
   "cell_type": "markdown",
   "id": "1373dc74",
   "metadata": {},
   "source": [
    "### Bài 5\n",
    "\n",
    "Nhập vào một chuỗi, tìm các ký tự chỉ xuất hiện một lần trong chuỗi (nếu xuất hiện 1 lần in true, xuất hiện nhiều lần in false)\n",
    "\n",
    "Ví dụ:\n",
    "\n",
    "Nhập chuỗi: \"ABAbc\"\n",
    "\n",
    "In:\n",
    "\n",
    "A: False\n",
    "\n",
    "B: True\n",
    "\n",
    "A: False\n",
    "\n",
    "b: True\n",
    "\n",
    "c: True"
   ]
  },
  {
   "cell_type": "code",
   "execution_count": 20,
   "id": "a93bc53d",
   "metadata": {},
   "outputs": [
    {
     "name": "stdout",
     "output_type": "stream",
     "text": [
      "Nhập chuỗi: DăngD\n",
      "D : False\n",
      "ă : True\n",
      "n : True\n",
      "g : True\n",
      "D : False\n"
     ]
    }
   ],
   "source": [
    "a = input('Nhập chuỗi: ')\n",
    "k = 0\n",
    "b = 0\n",
    "for i in range(len(a)):\n",
    "    b = a[k]\n",
    "    k += 1\n",
    "    if a.count(b) != 1:\n",
    "        print(b,':',False)\n",
    "    else:\n",
    "        print(b,':',True)\n",
    "\n",
    "# cách 2\n",
    "a = input('Nhập chuỗi: ')\n",
    "k = 0\n",
    "b = 0\n",
    "for i in range(len(a)):\n",
    "    b = a[k]\n",
    "    k += 1\n",
    "    print(b,a.count('b') == 1)\n",
    "\n",
    "    "
   ]
  },
  {
   "cell_type": "markdown",
   "id": "69bebf4c",
   "metadata": {},
   "source": [
    "### Bài 6\n",
    "\n",
    "Nhập vào một chuỗi, kiểm tra trong chuỗi có con số hay không, nếu có in True, không có in False"
   ]
  },
  {
   "cell_type": "code",
   "execution_count": 2,
   "id": "1b4eab4f",
   "metadata": {},
   "outputs": [
    {
     "name": "stdout",
     "output_type": "stream",
     "text": [
      "Nhập chuỗi: qưdw\n",
      "False\n"
     ]
    }
   ],
   "source": [
    "a = input('Nhập chuỗi: ')\n",
    "b=0\n",
    "k=0\n",
    "dem = 0\n",
    "for i in range(len(a)):\n",
    "    b = a[k]\n",
    "    k += 1\n",
    "    if b.isnumeric() == True:\n",
    "        dem += 1\n",
    "if dem != 0:\n",
    "    print(True)\n",
    "else:\n",
    "    print(False)\n",
    "    \n",
    "# Cách 2\n",
    "a = input('Nhập chuỗi: ')\n",
    "k = 0\n",
    "co = False\n",
    "# Kiểm tra từng thằng trong chuỗi, nếu phát hiện có số thì gán thằng cờ là True\n",
    "# Nếu không thấy thì nó vẫn là False: Cách này thường được sử dụng để xử lý\n",
    "# Nếu không dùng if thì sử dụng toán tử so sánh\n",
    "\n",
    "for i in range(len(a)):\n",
    "    b = a[k]\n",
    "    k += 1\n",
    "    co = co or b.isnumeric()\n",
    "print(co)"
   ]
  },
  {
   "cell_type": "markdown",
   "id": "1e51403c",
   "metadata": {},
   "source": [
    "### Bài 7\n",
    "\n",
    "Nhập vào một chuỗi, tách những con số có trong chuỗi ra rồi tính tổng của chúng\n",
    "\n",
    "In tổng lên màn hình"
   ]
  },
  {
   "cell_type": "code",
   "execution_count": 7,
   "id": "a34e349d",
   "metadata": {},
   "outputs": [
    {
     "name": "stdout",
     "output_type": "stream",
     "text": [
      "Nhập chuỗi: ádfds4afdasd3\n",
      "Tổng các con số trong chuỗi là: 7\n"
     ]
    }
   ],
   "source": [
    "a = input('Nhập chuỗi: ')\n",
    "b=0\n",
    "k=0\n",
    "tong = 0\n",
    "for i in range(len(a)):\n",
    "    b = a[k]\n",
    "    k += 1\n",
    "    if b.isnumeric() == True:\n",
    "        tong += int(b)\n",
    "print('Tổng các con số trong chuỗi là:',tong)\n",
    "\n",
    "# Cách 2\n",
    "a = input('Nhập chuỗi: ')\n",
    "k = 0\n",
    "b = 0\n",
    "tong = 0\n",
    "for i in range(10):\n",
    "    b += k* a.count(b)\n",
    "    k += 1\n",
    "print(b)\n",
    "        "
   ]
  },
  {
   "cell_type": "markdown",
   "id": "e951779d",
   "metadata": {},
   "source": [
    "### Bài 8\n",
    "\n",
    "Nhập vào một chuỗi, đảo ngược chuỗi đã nhập rồi in ra màn hình"
   ]
  },
  {
   "cell_type": "code",
   "execution_count": 18,
   "id": "9305f0f1",
   "metadata": {},
   "outputs": [
    {
     "name": "stdout",
     "output_type": "stream",
     "text": [
      "Nhập chuỗi: dang\n",
      "gnad\n"
     ]
    }
   ],
   "source": [
    "a = input('Nhập chuỗi: ')\n",
    "daonguoc = a[::-1]\n",
    "print(daonguoc)"
   ]
  },
  {
   "cell_type": "markdown",
   "id": "04194b5c",
   "metadata": {},
   "source": [
    "### Bài 9\n",
    "\n",
    "Nhập vào một chuỗi, kiểm tra xem mỗi từ trong chuỗi có được viết hoa chữ cái đầu hay không, nếu tất cả đều được viết hoa thì in ra True, còn không thì in ra False\n",
    "\n",
    "Trong trường hợp là False, hãy viết hoa tất cả các chữ cái đầu của mỗi từ rồi in lên màn hình\n",
    "\n",
    "Cách làm thông thường:"
   ]
  },
  {
   "cell_type": "code",
   "execution_count": 5,
   "id": "9f947c7d",
   "metadata": {},
   "outputs": [
    {
     "name": "stdout",
     "output_type": "stream",
     "text": [
      "Nhập chuỗi: vũ Ngọc Linh\n",
      "False\n",
      "Chuỗi sau khi sửa là: Vũ Ngọc Linh \n"
     ]
    }
   ],
   "source": [
    "a = input('Nhập chuỗi: ')\n",
    "b = 0\n",
    "dem = 0\n",
    "Sua_chuoi = 0\n",
    "So_tu_cua_a = a.count(' ')\n",
    "Sua_chuoi = ''\n",
    "Sua_b = 0\n",
    "for i in range(a.count(' ')):\n",
    "    b = a[:a.find(' ')]\n",
    "    if b[0].upper() == b[0]:\n",
    "        dem += 1\n",
    "        Sua_chuoi +=  b + ' '\n",
    "    else:\n",
    "        Sua_b = b[0].upper() + b[1:]\n",
    "        Sua_chuoi += Sua_b + ' '\n",
    "    a = a[a.find(' ')+1:]\n",
    "\n",
    "if a[0].upper() == a[0]:\n",
    "    dem += 1\n",
    "    Sua_chuoi += a + ' '\n",
    "else:\n",
    "    Sua_chuoi += a[0].upper() + a[1:]\n",
    "\n",
    "if dem - So_tu_cua_a == 1:\n",
    "    print(True)\n",
    "else:\n",
    "    print(False)\n",
    "    print('Chuỗi sau khi sửa là:',Sua_chuoi)\n",
    "    \n",
    "    \n",
    "\n",
    "    \n",
    "    "
   ]
  },
  {
   "cell_type": "markdown",
   "id": "f43e32af",
   "metadata": {},
   "source": [
    "Cách sử dụng lệnh có sẵn:"
   ]
  },
  {
   "cell_type": "code",
   "execution_count": 6,
   "id": "714f1412",
   "metadata": {},
   "outputs": [
    {
     "name": "stdout",
     "output_type": "stream",
     "text": [
      "Nhập chuỗi: Phạm Đàm hải đăng\n",
      "False\n",
      "Phạm Đàm Hải Đăng\n"
     ]
    }
   ],
   "source": [
    "a = input('Nhập chuỗi: ')\n",
    "Chuoi_ban_dau = a\n",
    "b = 0\n",
    "dem = 0\n",
    "So_tu_cua_a = a.count(' ')\n",
    "for i in range(a.count(' ')):\n",
    "    b = a[:a.find(' ')]\n",
    "    if b[0].lower() != b[0]:\n",
    "        dem += 1\n",
    "    a = a[a.find(' ')+1:]\n",
    "\n",
    "if a[0].lower() != a[0]:\n",
    "    dem += 1\n",
    "\n",
    "if dem - So_tu_cua_a == 1:\n",
    "    print(True)\n",
    "else:\n",
    "    print(False)\n",
    "    print('Chuỗi sau khi sửa là: ',Chuoi_ban_dau.title())"
   ]
  },
  {
   "cell_type": "code",
   "execution_count": 4,
   "id": "f8f0077e",
   "metadata": {},
   "outputs": [
    {
     "name": "stdout",
     "output_type": "stream",
     "text": [
      "Nhập chuỗi: Djas\n",
      "True\n"
     ]
    }
   ],
   "source": [
    "a = input('Nhập chuỗi: ')\n",
    "print(not a.islower())"
   ]
  },
  {
   "cell_type": "code",
   "execution_count": 5,
   "id": "90400382",
   "metadata": {},
   "outputs": [
    {
     "name": "stdout",
     "output_type": "stream",
     "text": [
      "Nhập chuỗi: 121\n",
      "Chuỗi 121 là chuỗi đối xứng True\n",
      "Chuỗi 121 không đối xứng False\n"
     ]
    }
   ],
   "source": [
    "chuoi = input('Nhập chuỗi: ')\n",
    "print('Chuỗi',chuoi,'là chuỗi đối xứng',chuoi == chuoi[::-1])\n",
    "print('Chuỗi',chuoi,'không đối xứng',chuoi != chuoi[::-1])\n"
   ]
  },
  {
   "cell_type": "code",
   "execution_count": 8,
   "id": "542f49fc",
   "metadata": {},
   "outputs": [
    {
     "name": "stdout",
     "output_type": "stream",
     "text": [
      "121\n",
      "False\n"
     ]
    }
   ],
   "source": [
    "a = input()\n",
    "a1 = a[:len(a)//2]\n",
    "a2 = a[len(a)//2:]\n",
    "a2 = a2[::-1]\n",
    "print(a1 == a2)"
   ]
  },
  {
   "cell_type": "code",
   "execution_count": 11,
   "id": "19f01044",
   "metadata": {},
   "outputs": [
    {
     "name": "stdout",
     "output_type": "stream",
     "text": [
      "Nhập chuỗi: asdfsd a\n",
      "a : False\n",
      "s : False\n",
      "d : False\n",
      "f : True\n",
      "s : False\n",
      "d : False\n",
      "  : True\n",
      "a : False\n"
     ]
    }
   ],
   "source": [
    "a = input('Nhập chuỗi: ')\n",
    "k = 0\n",
    "b = 0\n",
    "for i in range(len(a)):\n",
    "    b = a[k]\n",
    "    k += 1\n",
    "    print(b,':',a.count(b) == 1)"
   ]
  },
  {
   "cell_type": "code",
   "execution_count": 12,
   "id": "5077adc0",
   "metadata": {},
   "outputs": [
    {
     "name": "stdout",
     "output_type": "stream",
     "text": [
      "Nhập chuỗi: sdf\n",
      "False\n",
      "False\n",
      "False\n",
      "False\n"
     ]
    }
   ],
   "source": [
    "a = input('Nhập chuỗi: ')\n",
    "b=0\n",
    "k=0\n",
    "dem = 0\n",
    "for i in range(len(a)):\n",
    "    b = a[k]\n",
    "    k += 1\n",
    "    print(b.isnumeric())\n",
    "\n",
    "if dem != 0:\n",
    "    print(True)\n",
    "else:\n",
    "    print(False)\n",
    "    "
   ]
  },
  {
   "cell_type": "code",
   "execution_count": 14,
   "id": "4771b9a1",
   "metadata": {},
   "outputs": [
    {
     "name": "stdout",
     "output_type": "stream",
     "text": [
      "Nhập chuỗi: a2fsd\n",
      "False\n"
     ]
    }
   ],
   "source": [
    "a = input('Nhập chuỗi: ')\n",
    "k = 0\n",
    "co = False\n",
    "# Kiểm tra từng thằng trong chuỗi, nếu phát hiện có số thì gán thằng cờ là True\n",
    "# Nếu không thấy thì nó vẫn là False: Cách này thường được sử dụng để xử lý\n",
    "# Nếu không dùng if thì sử dụng toán tử so sánh logic\n",
    "\n",
    "for i in range(len(a)):\n",
    "    b = a[k]\n",
    "    k += 1\n",
    "    co = co or a[k].isnumeric()\n",
    "print(co)"
   ]
  },
  {
   "cell_type": "code",
   "execution_count": 1,
   "id": "7de3d765",
   "metadata": {},
   "outputs": [
    {
     "ename": "AttributeError",
     "evalue": "'int' object has no attribute 'isnumeric'",
     "output_type": "error",
     "traceback": [
      "\u001b[1;31m---------------------------------------------------------------------------\u001b[0m",
      "\u001b[1;31mAttributeError\u001b[0m                            Traceback (most recent call last)",
      "Input \u001b[1;32mIn [1]\u001b[0m, in \u001b[0;36m<cell line: 2>\u001b[1;34m()\u001b[0m\n\u001b[0;32m      1\u001b[0m a \u001b[38;5;241m=\u001b[39m \u001b[38;5;241m1\u001b[39m\n\u001b[1;32m----> 2\u001b[0m b\u001b[38;5;241m=\u001b[39m\u001b[43ma\u001b[49m\u001b[38;5;241;43m.\u001b[39;49m\u001b[43misnumeric\u001b[49m()\n\u001b[0;32m      3\u001b[0m \u001b[38;5;28mprint\u001b[39m(b)\n",
      "\u001b[1;31mAttributeError\u001b[0m: 'int' object has no attribute 'isnumeric'"
     ]
    }
   ],
   "source": [
    "a = 1\n",
    "b=a.isnumeric()\n",
    "print(b)"
   ]
  },
  {
   "cell_type": "code",
   "execution_count": 3,
   "id": "ff697ff5",
   "metadata": {},
   "outputs": [
    {
     "name": "stdout",
     "output_type": "stream",
     "text": [
      "Nhập chuỗi: ádfjnj1adf\n",
      "True\n"
     ]
    }
   ],
   "source": [
    "a = input('Nhập chuỗi: ')\n",
    "k = 0\n",
    "co = False\n",
    "# Kiểm tra từng thằng trong chuỗi, nếu phát hiện có số thì gán thằng cờ là True\n",
    "# Nếu không thấy thì nó vẫn là False: Cách này thường được sử dụng để xử lý\n",
    "# Nếu không dùng if thì sử dụng toán tử so sánh\n",
    "\n",
    "for i in range(len(a)):\n",
    "    b = a[k]\n",
    "    k += 1\n",
    "    co = co or b.isnumeric()\n",
    "print(co)"
   ]
  },
  {
   "cell_type": "code",
   "execution_count": 3,
   "id": "03ba70e0",
   "metadata": {},
   "outputs": [
    {
     "name": "stdout",
     "output_type": "stream",
     "text": [
      "Nhập chuỗi: ádf1asdfsd9\n",
      "5\n"
     ]
    }
   ],
   "source": [
    "a = input('Nhập chuỗi: ')\n",
    "b = 0\n",
    "tong = 0\n",
    "for i in range(10):\n",
    "    b *= a.count(str(b))\n",
    "    tong += b\n",
    "    b += 1\n",
    "    \n",
    "print(tong)"
   ]
  },
  {
   "cell_type": "code",
   "execution_count": 1,
   "id": "72475142",
   "metadata": {},
   "outputs": [
    {
     "name": "stdout",
     "output_type": "stream",
     "text": [
      "Nhập chuỗi: ugv5hbv 6\n",
      "0\n"
     ]
    }
   ],
   "source": [
    "a = input('Nhập chuỗi: ')\n",
    "k = 0\n",
    "b = 0\n",
    "tong = 0\n",
    "for i in range(10):\n",
    "    b += k* a.count(str(k))\n",
    "    k += 1\n",
    "print(b)"
   ]
  },
  {
   "cell_type": "code",
   "execution_count": null,
   "id": "88b811c8",
   "metadata": {},
   "outputs": [],
   "source": []
  }
 ],
 "metadata": {
  "kernelspec": {
   "display_name": "Python 3 (ipykernel)",
   "language": "python",
   "name": "python3"
  },
  "language_info": {
   "codemirror_mode": {
    "name": "ipython",
    "version": 3
   },
   "file_extension": ".py",
   "mimetype": "text/x-python",
   "name": "python",
   "nbconvert_exporter": "python",
   "pygments_lexer": "ipython3",
   "version": "3.10.4"
  }
 },
 "nbformat": 4,
 "nbformat_minor": 5
}
