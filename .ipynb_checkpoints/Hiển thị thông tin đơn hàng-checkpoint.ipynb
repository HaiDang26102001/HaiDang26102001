{
 "cells": [
  {
   "cell_type": "code",
   "execution_count": null,
   "id": "e8af29c2",
   "metadata": {},
   "outputs": [],
   "source": [
    "# Viết chương trình hỏi người dùng đã chi bao nhiêu tiền tại cửa hàng.\n",
    "\n",
    "# Nếu họ chi ít hơn 75$, họ sẽ không được giảm giá.\n",
    "\n",
    "# Nếu họ chi 75$ trở lên, họ sẽ được giảm giá 15$.\n",
    "\n",
    "# Nếu người dùng chi từ 100$ trở lên, họ sẽ được giảm giá 25$.\n",
    "\n",
    "# Nếu người dùng chi từ 150$ trở lên, họ sẽ được giảm giá 50$.\n",
    "# Sau đó in ra tổng số tiền mà người dùng phải thanh toán.\n",
    "\n",
    "\n",
    "tien = int(input('Nhập số tiền mua hàng: '))\n",
    "tien_phai_tra = 0\n",
    "\n",
    "if tien > 150:\n",
    "    tien_phai_tra = tien - 50\n",
    "elif tien > 100:\n",
    "    tien_phai_tra = tien - 25\n",
    "elif tien > 75:\n",
    "    tien_phai_tra = tien - 15\n",
    "else:\n",
    "    tien_phai_tra = tien\n",
    "\n",
    "print('Tiền phải trả là :',tien_phai_tra)"
   ]
  }
 ],
 "metadata": {
  "kernelspec": {
   "display_name": "Python 3 (ipykernel)",
   "language": "python",
   "name": "python3"
  },
  "language_info": {
   "codemirror_mode": {
    "name": "ipython",
    "version": 3
   },
   "file_extension": ".py",
   "mimetype": "text/x-python",
   "name": "python",
   "nbconvert_exporter": "python",
   "pygments_lexer": "ipython3",
   "version": "3.10.4"
  }
 },
 "nbformat": 4,
 "nbformat_minor": 5
}
