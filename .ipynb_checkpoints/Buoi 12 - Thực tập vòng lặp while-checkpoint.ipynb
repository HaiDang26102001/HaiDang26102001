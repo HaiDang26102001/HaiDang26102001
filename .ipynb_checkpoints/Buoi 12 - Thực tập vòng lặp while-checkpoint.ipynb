{
 "cells": [
  {
   "cell_type": "markdown",
   "id": "1f7be993",
   "metadata": {},
   "source": [
    "# Thực tập vòng lặp While\n",
    "\n",
    "### Bài 1\n",
    "\n",
    "Nhập vào số a, sử dụng lệnh while (không sử dụng break và for) để xác định xem số đó có phải là số nguyên tố hay không"
   ]
  },
  {
   "cell_type": "code",
   "execution_count": 2,
   "id": "8cb73965",
   "metadata": {},
   "outputs": [
    {
     "name": "stdout",
     "output_type": "stream",
     "text": [
      "Nhập a: 5\n",
      "5 là số nguyên tố\n"
     ]
    }
   ],
   "source": [
    "while True:\n",
    "    a = int(input('Nhập a: '))\n",
    "    if a > 0:\n",
    "        break\n",
    "    else:\n",
    "        print('Yêu cầu nhập lại!')\n",
    "\n",
    "i = 1\n",
    "dem = 0\n",
    "while i <= a:\n",
    "    if a % i == 0:\n",
    "        dem += 1\n",
    "    i += 1\n",
    "if dem == 2:\n",
    "    print(a,'là số nguyên tố')\n",
    "else: \n",
    "    print(a,'không là số nguyên tố')\n",
    "    "
   ]
  },
  {
   "cell_type": "markdown",
   "id": "9f2357ca",
   "metadata": {},
   "source": [
    "### Bài 2\n",
    "\n",
    "Hãy sử dụng lệnh while lập trình cho bài đoán số ở buổi thứ 9"
   ]
  },
  {
   "cell_type": "code",
   "execution_count": 8,
   "id": "db79cb9d",
   "metadata": {},
   "outputs": [
    {
     "name": "stdout",
     "output_type": "stream",
     "text": [
      "Số được chọn là 30\n",
      "Đoán nhỏ hơn đi\n",
      "Đoán lớn hơn đi\n",
      "Đoán nhỏ hơn đi\n",
      "Đoán đúng rồi\n",
      "máy đoán ra số trong 4 lần đoán\n"
     ]
    }
   ],
   "source": [
    "from random import randint\n",
    "t = randint(0,100)\n",
    "print('Số được chọn là',t)\n",
    "doan = 0\n",
    "low = 0\n",
    "high = 100\n",
    "i = 0\n",
    "so_lan_doan = 0\n",
    "\n",
    "while i < 7:\n",
    "    doan = (high + low)//2\n",
    "    so_lan_doan += 1\n",
    "    if doan == t:\n",
    "        print('Đoán đúng rồi')\n",
    "        break\n",
    "    elif t > doan:\n",
    "        print('Đoán lớn hơn đi')\n",
    "        low = doan + 1\n",
    "    elif t < doan:\n",
    "        print('Đoán nhỏ hơn đi')\n",
    "        high = doan - 1\n",
    "    i += 1\n",
    "\n",
    "        \n",
    "print('máy đoán ra số trong',so_lan_doan,'lần đoán')\n",
    "        "
   ]
  },
  {
   "cell_type": "markdown",
   "id": "58f5b789",
   "metadata": {},
   "source": [
    "### Bài 3\n",
    "\n",
    "Nhập vào số a, hãy đếm a có bao nhiêu chữ số chẵn, bao nhiêu cữ số lẻ\n",
    "\n",
    "#### Cách 1 (dùng chuỗi):"
   ]
  },
  {
   "cell_type": "code",
   "execution_count": 26,
   "id": "e7f9da21",
   "metadata": {},
   "outputs": [
    {
     "name": "stdout",
     "output_type": "stream",
     "text": [
      "Nhập a:-33345\n",
      "-33345 có 1 chữ số chẵn\n",
      "-33345 có 4 chữ số lẻ\n"
     ]
    }
   ],
   "source": [
    "a = int(input('Nhập a:'))\n",
    "a = str(a)\n",
    "i = 0\n",
    "k = 1\n",
    "dem_chan = 0\n",
    "dem_le = 0\n",
    "if int(a) > 0:\n",
    "    while i < len(a):\n",
    "        if int(a[i]) % 2 == 0 and int(a[i]) != 0:\n",
    "            dem_chan += 1\n",
    "        elif int(a[i]) % 2 != 0 :\n",
    "            dem_le += 1\n",
    "        i += 1\n",
    "\n",
    "elif int(a) < 0:\n",
    "    while k < len(a):\n",
    "        if int(a[k]) % 2 == 0 and int(a[k]) != 0:\n",
    "            dem_chan += 1\n",
    "        elif int(a[k]) % 2 != 0 :\n",
    "            dem_le += 1\n",
    "        k += 1\n",
    "\n",
    "    \n",
    "\n",
    "print(a,'có',dem_chan,'chữ số chẵn')\n",
    "print(a,'có',dem_le,'chữ số lẻ')\n",
    "\n"
   ]
  },
  {
   "cell_type": "markdown",
   "id": "9a3d9703",
   "metadata": {},
   "source": [
    "#### Cách 2 (không dùng chuỗi):"
   ]
  },
  {
   "cell_type": "code",
   "execution_count": 16,
   "id": "d4e474c8",
   "metadata": {},
   "outputs": [
    {
     "name": "stdout",
     "output_type": "stream",
     "text": [
      "Nhập a: 303\n",
      "303 có 0 chữ số chẵn\n",
      "303 có 2 chữ số lẻ\n"
     ]
    }
   ],
   "source": [
    "a = int(input('Nhập a: '))\n",
    "ST = a\n",
    "i = 0\n",
    "dem_chan = 0\n",
    "dem_le = 0\n",
    "if a > 0:\n",
    "    while i < len(str(a)):\n",
    "        SC = ST % 10\n",
    "        if SC % 2 == 0 and SC != 0:\n",
    "            dem_chan += 1\n",
    "        elif SC % 2 != 0 and SC != 0: \n",
    "            dem_le += 1\n",
    "        ST = ST // 10\n",
    "        i += 1\n",
    "elif a < 0:\n",
    "    while i < (len(str(a)) - 1):\n",
    "        SC = ST % 10\n",
    "        if SC % 2 == 0 and SC != 0:\n",
    "            dem_chan += 1\n",
    "        elif SC % 2 != 0: \n",
    "            dem_le += 1\n",
    "        ST = ST // 10\n",
    "        i += 1\n",
    "\n",
    "    \n",
    "print(a,'có',dem_chan,'chữ số chẵn')\n",
    "print(a,'có',dem_le,'chữ số lẻ')"
   ]
  },
  {
   "cell_type": "markdown",
   "id": "69539ece",
   "metadata": {},
   "source": [
    "### Bài 4\n",
    "\n",
    "Nhập vào số a, hãy tính tổng các chữ số nguyên tố của a"
   ]
  },
  {
   "cell_type": "code",
   "execution_count": 3,
   "id": "f001bd9a",
   "metadata": {},
   "outputs": [
    {
     "name": "stdout",
     "output_type": "stream",
     "text": [
      "Nhập a: 345\n",
      "8\n"
     ]
    }
   ],
   "source": [
    "while True:\n",
    "    a = int(input('Nhập a: '))\n",
    "    if a > 0:\n",
    "        break\n",
    "    else:\n",
    "        print('Yêu cầu nhập lại!')\n",
    "\n",
    "a = str(a)\n",
    "i = 0 \n",
    "k = 1\n",
    "dem = 0\n",
    "so = ''\n",
    "tong = 0\n",
    "\n",
    "while i < len(a):\n",
    "    so = int(a[i])\n",
    "    while k <= so:\n",
    "        if so % k == 0:\n",
    "            dem += 1\n",
    "        k += 1\n",
    "    if dem == 2:\n",
    "        tong += so\n",
    "    k = 1\n",
    "    dem = 0\n",
    "    i += 1\n",
    "print(tong)\n",
    "    \n"
   ]
  },
  {
   "cell_type": "markdown",
   "id": "0a5075a4",
   "metadata": {},
   "source": [
    "### Bài 5\n",
    "\n",
    "Số armstrong là số có tổng của các chữ số mũ số lượng chữ số bằng chính nó\n",
    "\n",
    "Ví dụ\n",
    "\n",
    "Số 371 là một số armstrong vì:\n",
    "\n",
    "371 = 3^3 + 7^3 + 1^3 (3 là số lượng chữ số của 371)\n",
    "\n",
    "Số 1634 là một số armstrong vì:\n",
    "\n",
    "1634 = 1^4 + 6^4 + 3^4 + 4^4 (4 là số lượng chữ số của 1634)\n",
    "\n",
    "Nhập vào số a, kiểm tra xem a có phải là số armstrong không"
   ]
  },
  {
   "cell_type": "code",
   "execution_count": 32,
   "id": "b9ed54a5",
   "metadata": {},
   "outputs": [
    {
     "name": "stdout",
     "output_type": "stream",
     "text": [
      "3\n"
     ]
    }
   ],
   "source": []
  },
  {
   "cell_type": "markdown",
   "id": "f8a584d3",
   "metadata": {},
   "source": [
    "### Bài 6\n",
    "\n",
    "Dãy số fibonacci là dãy số được định nghĩa như sau: 1, 1, 2, 3, 5, 8, 13,... với số kế tiếp sẽ bằng tổng hai số trước đó\n",
    "\n",
    "Nhập vào A, hãy tìm số trong dãy số fibonacci lớn nhất nhưng không vượt quá A"
   ]
  },
  {
   "cell_type": "code",
   "execution_count": null,
   "id": "3ad4d85b",
   "metadata": {},
   "outputs": [],
   "source": []
  },
  {
   "cell_type": "markdown",
   "id": "9fa794f2",
   "metadata": {},
   "source": [
    "### Bài 7\n",
    "\n",
    "Nhập vào A, tìm n nhỏ nhất sao cho\n",
    "\n",
    "1 + 1/2 + 1/3 + 1/4 + ... + 1/n > A"
   ]
  },
  {
   "cell_type": "code",
   "execution_count": null,
   "id": "246ec002",
   "metadata": {},
   "outputs": [],
   "source": []
  },
  {
   "cell_type": "markdown",
   "id": "c5fd4d8a",
   "metadata": {},
   "source": [
    "### Bài 8\n",
    "\n",
    "Nhập vào a và b là số nguyên dương (b có một chữ số, nhập sai yêu cầu nhập lại), hãy tìm vị trí đầu tiên (bắt đầu từ bên trái) của b trong a, nếu không tìm thấy thì in kết quả là 0 (ví trí đầu bắt đầu từ 1)\n",
    "\n",
    "<b>Ví dụ:</b>\n",
    "\n",
    "<b>Nhập:</b>\n",
    "- a = 125785\n",
    "- b = 5\n",
    "\n",
    "<b>Kết quả:</b> 3 (do số 5 nằm ở vị trí 3)"
   ]
  },
  {
   "cell_type": "code",
   "execution_count": null,
   "id": "9edf35ac",
   "metadata": {},
   "outputs": [],
   "source": []
  }
 ],
 "metadata": {
  "kernelspec": {
   "display_name": "Python 3 (ipykernel)",
   "language": "python",
   "name": "python3"
  },
  "language_info": {
   "codemirror_mode": {
    "name": "ipython",
    "version": 3
   },
   "file_extension": ".py",
   "mimetype": "text/x-python",
   "name": "python",
   "nbconvert_exporter": "python",
   "pygments_lexer": "ipython3",
   "version": "3.10.4"
  }
 },
 "nbformat": 4,
 "nbformat_minor": 5
}
