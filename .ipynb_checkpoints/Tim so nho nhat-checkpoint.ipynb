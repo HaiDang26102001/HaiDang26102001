{
 "cells": [
  {
   "cell_type": "code",
   "execution_count": null,
   "id": "8ca88460",
   "metadata": {},
   "outputs": [],
   "source": [
    "a = [65,45,56,76,66,77,83,234]\n",
    "\n",
    "def nn(a):\n",
    "    k = a[0]\n",
    "    for i in a:\n",
    "        if i < k:\n",
    "            k = i\n",
    "    return k\n",
    "\n",
    "print(nn(a))"
   ]
  }
 ],
 "metadata": {
  "kernelspec": {
   "display_name": "Python 3 (ipykernel)",
   "language": "python",
   "name": "python3"
  },
  "language_info": {
   "codemirror_mode": {
    "name": "ipython",
    "version": 3
   },
   "file_extension": ".py",
   "mimetype": "text/x-python",
   "name": "python",
   "nbconvert_exporter": "python",
   "pygments_lexer": "ipython3",
   "version": "3.10.4"
  }
 },
 "nbformat": 4,
 "nbformat_minor": 5
}
