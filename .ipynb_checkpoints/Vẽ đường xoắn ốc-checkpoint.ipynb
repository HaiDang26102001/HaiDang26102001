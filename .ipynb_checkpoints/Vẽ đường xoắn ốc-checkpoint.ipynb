{
 "cells": [
  {
   "cell_type": "code",
   "execution_count": null,
   "id": "9d964eac",
   "metadata": {},
   "outputs": [],
   "source": [
    "import math\n",
    "import turtle as t\n",
    "a = int(input('Nhập a: '))\n",
    "r = 1\n",
    "d = 1\n",
    "p = Turtle()\n",
    "while r <= a:\n",
    "    t.circle(r,d)\n",
    "    r += 1\n",
    "    d += 1"
   ]
  }
 ],
 "metadata": {
  "kernelspec": {
   "display_name": "Python 3 (ipykernel)",
   "language": "python",
   "name": "python3"
  },
  "language_info": {
   "codemirror_mode": {
    "name": "ipython",
    "version": 3
   },
   "file_extension": ".py",
   "mimetype": "text/x-python",
   "name": "python",
   "nbconvert_exporter": "python",
   "pygments_lexer": "ipython3",
   "version": "3.10.4"
  }
 },
 "nbformat": 4,
 "nbformat_minor": 5
}
