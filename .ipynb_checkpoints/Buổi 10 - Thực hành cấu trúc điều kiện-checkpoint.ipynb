{
 "cells": [
  {
   "cell_type": "markdown",
   "id": "dcdb816e",
   "metadata": {},
   "source": [
    "# Thực hành cấu trúc điều khiển\n",
    "\n",
    "### Bài 1\n",
    "\n",
    "Cho phương trình bậc 2: ax^2 + bx + c = 0\n",
    "\n",
    "Nhập a, b, c\n",
    "\n",
    "Giải và biện luận phương trình trên"
   ]
  },
  {
   "cell_type": "code",
   "execution_count": null,
   "id": "b5a5c325",
   "metadata": {},
   "outputs": [],
   "source": [
    "a = float(input('Nhập a:'))\n",
    "b = float(input('Nhập b:'))\n",
    "c = float(input('Nhập c:'))\n",
    "x = 0\n",
    "x1 = 0\n",
    "x2 = 0\n",
    "delta = b*b - 4*a*c\n",
    "if a == 0:\n",
    "    x = -c/b\n",
    "    print('PT có nghiệm duy nhất',x)\n",
    "else:\n",
    "    if delta < 0:\n",
    "        print('PT vô nghiệm')\n",
    "    elif delta == 0:\n",
    "        x = -b/2*a\n",
    "        print('PT có nghiệm kép',x)\n",
    "    else:\n",
    "        delta = b*b - 4*a*c\n",
    "        x1 = (-b + delta**0.5)/2*a\n",
    "        x2 = (-b - delta**0.5)/2*a\n",
    "        print('PT có 2 nghiệm',x1,x2)\n"
   ]
  },
  {
   "cell_type": "markdown",
   "id": "6f7d329d",
   "metadata": {},
   "source": [
    "### Bài 2\n",
    "\n",
    "Hãy nhập vào một số\n",
    "\n",
    "Xác định coi đó có phải là số nguyên tố hay không"
   ]
  },
  {
   "cell_type": "code",
   "execution_count": 1,
   "id": "049c85f5",
   "metadata": {},
   "outputs": [
    {
     "name": "stdout",
     "output_type": "stream",
     "text": [
      "nhập số cần kiểm tra:5\n",
      "5 là số nguyên tố\n"
     ]
    }
   ],
   "source": [
    "a = int(input('nhập số cần kiểm tra:'))\n",
    "dem = 0\n",
    "k = 2\n",
    "for i in range(a - 2):\n",
    "    if a % k == 0:\n",
    "        print(a,'không phải số nguyên tố')\n",
    "        break\n",
    "    else:\n",
    "        dem += 1\n",
    "    k+=1\n",
    "if dem == a - 2:\n",
    "    print(a,'là số nguyên tố')"
   ]
  },
  {
   "cell_type": "markdown",
   "id": "75f7717b",
   "metadata": {},
   "source": [
    "### Bài 3\n",
    "\n",
    "Hãy nhập vào số n\n",
    "\n",
    "Hãy đếm số chữ số 0 tận cùng của n giai thừa\n",
    "\n",
    "(Bài này nâng cao, mọi người có thể bỏ qua)"
   ]
  },
  {
   "cell_type": "code",
   "execution_count": null,
   "id": "789e0e76",
   "metadata": {},
   "outputs": [],
   "source": [
    "n = int(input('Nhập n: '))\n",
    "k = 1\n",
    "p = 1\n",
    "dem = 0\n",
    "giaithua = 1\n",
    "\n",
    "if n >= 0:\n",
    "    for i in range(n):\n",
    "        giaithua *= k\n",
    "        k += 1\n",
    "    print(n,'giai thừa =',giaithua)\n",
    "    \n",
    "    for i in range(len(str(giaithua))-1):\n",
    "        if giaithua % 10**(len(str(giaithua)) - p) == 0:\n",
    "            dem += 1\n",
    "        p += 1\n",
    "    print('Số chữ số 0 tận cùng của',n,'giai thừa là',dem)\n",
    "    \n",
    "else:\n",
    "    print('Không tồn tại giai thừa của số âm')\n"
   ]
  },
  {
   "cell_type": "markdown",
   "id": "29cd6c81",
   "metadata": {},
   "source": [
    "### Bài 4\n",
    "\n",
    "In ra tất cả các số chia hết cho 3 nhỏ hơn 100"
   ]
  },
  {
   "cell_type": "code",
   "execution_count": 1,
   "id": "0b848981",
   "metadata": {},
   "outputs": [
    {
     "name": "stdout",
     "output_type": "stream",
     "text": [
      "3\n",
      "6\n",
      "9\n",
      "12\n",
      "15\n",
      "18\n",
      "21\n",
      "24\n",
      "27\n",
      "30\n",
      "33\n",
      "36\n",
      "39\n",
      "42\n",
      "45\n",
      "48\n",
      "51\n",
      "54\n",
      "57\n",
      "60\n",
      "63\n",
      "66\n",
      "69\n",
      "72\n",
      "75\n",
      "78\n",
      "81\n",
      "84\n",
      "87\n",
      "90\n",
      "93\n",
      "96\n",
      "99\n"
     ]
    }
   ],
   "source": [
    "k = 3\n",
    "for i in range(97):\n",
    "    if k % 3 == 0:\n",
    "        print(k)\n",
    "    k += 1\n",
    "    "
   ]
  },
  {
   "cell_type": "markdown",
   "id": "04dbf99b",
   "metadata": {},
   "source": [
    "### Bài 5\n",
    "\n",
    "In ra tất cả các số lẻ nhưng không chia hết cho 3 nhỏ hơn 100"
   ]
  },
  {
   "cell_type": "code",
   "execution_count": 1,
   "id": "769eb439",
   "metadata": {},
   "outputs": [
    {
     "name": "stdout",
     "output_type": "stream",
     "text": [
      "1\n",
      "5\n",
      "7\n",
      "11\n",
      "13\n",
      "17\n",
      "19\n",
      "23\n",
      "25\n",
      "29\n",
      "31\n",
      "35\n",
      "37\n",
      "41\n",
      "43\n",
      "47\n",
      "49\n",
      "53\n",
      "55\n",
      "59\n",
      "61\n",
      "65\n",
      "67\n",
      "71\n",
      "73\n",
      "77\n",
      "79\n",
      "83\n",
      "85\n",
      "89\n",
      "91\n",
      "95\n",
      "97\n"
     ]
    }
   ],
   "source": [
    "k = 0\n",
    "for i in range(100):\n",
    "    if k % 2 == 1:\n",
    "        if k % 3 != 0:\n",
    "            print(k)\n",
    "    k += 1"
   ]
  },
  {
   "cell_type": "markdown",
   "id": "26dd47fb",
   "metadata": {},
   "source": [
    "### Bài 5\n",
    "\n",
    "Tại một cửa hàng nọ có menu như sau:\n",
    "\n",
    "1. Gà rán giá 35k\n",
    "2. Hamburger giá 50k\n",
    "3. Pesi giá 10k\n",
    "\n",
    "Nhập số lượng món hàng cần mua\n",
    "\n",
    "Tính và in ra tổng giá tiền (hiển thị có dấu chấm mỗi 3 chữ số để người dùng để quan sát)\n",
    "\n",
    "Nếu giá trị đơn hàng trên 2 triệu, giảm 10% cho khách, trên 4 triệu, giảm 15%\n",
    "\n",
    "Tính và in ra tổng giá tiền được giảm (hiển thị có dấu chấm mỗi 3 chữ số để người dùng để quan sát)\n",
    "\n",
    "Tính và in ra tổng giá tiền khách cần trả (hiển thị có dấu chấm mỗi 3 chữ số để người dùng để quan sát)\n",
    "\n",
    "In ra dòng chữ \"Cảm ơn quý khách đã mua hàng\""
   ]
  },
  {
   "cell_type": "code",
   "execution_count": 8,
   "id": "8509df1e",
   "metadata": {},
   "outputs": [
    {
     "name": "stdout",
     "output_type": "stream",
     "text": [
      "Nhập số gà cần mua: 20\n",
      "Nhập số hamburger cần mua: 50\n",
      "Nhập số pepsi cần mua: 20\n",
      "Tổng giá trị đơn hàng 3400000\n",
      "Được giảm 340000.0\n",
      "Phải trả là 3060000.0\n"
     ]
    }
   ],
   "source": [
    "ga = int(input('Nhập số gà cần mua: '))\n",
    "ham = int(input('Nhập số hamburger cần mua: '))\n",
    "pep = int(input('Nhập số pepsi cần mua: '))\n",
    "tienhang = 35*1000*ga + 50*1000*ham + 10*1000*pep # Tính tiền hàng\n",
    "tiengiam = 0\n",
    "phaitra = 0\n",
    "k = 0\n",
    "p = 0\n",
    "h = 0\n",
    "\n",
    "\n",
    "if  4*10**6> tienhang > 2*10**6:\n",
    "    tiengiam = tienhang * 0.1\n",
    "    phaitra = tienhang - tiengiam\n",
    "\n",
    "elif tienhang > 4*10**6:\n",
    "    tiengiam = tienhang * 0.15\n",
    "    phaitra = tienhang - tiengiam\n",
    "\n",
    "else:\n",
    "    phaitra = tienhang\n",
    "\n",
    "\n",
    "\n",
    "tienhang = str(int(tienhang))\n",
    "if len(tienhang) % 3 != 0:\n",
    "    for i in range(len(tienhang)//3):\n",
    "        tienhang = tienhang[:-3 - k] + '.' + tienhang[-3 - k:]\n",
    "        k += 4\n",
    "else:\n",
    "    for i in range(len(tienhang)//3 - 1):\n",
    "        tienhang = tienhang[:-3 - k] + '.' + tienhang[-3 - k:]\n",
    "        k += 4\n",
    "\n",
    "tiengiam = str(int(tiengiam))\n",
    "if len(tiengiam) % 3 != 0:\n",
    "    for i in range(len(tiengiam)//3):\n",
    "        tiengiam = tiengiam[:-3 - p] + '.' + tiengiam[-3 - p:]\n",
    "        p += 4\n",
    "else:\n",
    "    for i in range(len(tiengiam)//3 - 1):\n",
    "        tiengiam = tiengiam[:-3 - p] + '.' + tiengiam[-3 - p:]\n",
    "        p += 4\n",
    "\n",
    "phaitra = str(int(phaitra))\n",
    "if len(phaitra) % 3 != 0:\n",
    "    for i in range(len(phaitra)//3):\n",
    "        phaitra = phaitra[:-3 - h] + '.' + phaitra[-3 - h:]\n",
    "        h += 4\n",
    "else:\n",
    "    for i in range(len(phaitra)//3 - 1):\n",
    "        phaitra = phaitra[:-3 - h] + '.' + phaitra[-3 - h:]\n",
    "        h += 4\n",
    "\n",
    "\n",
    "    \n",
    "    "
   ]
  },
  {
   "cell_type": "markdown",
   "id": "ab10a1ce",
   "metadata": {},
   "source": [
    "### Bài 6\n",
    "\n",
    "Nhập vào chiều cao (cm) và cân nặng (kg), tính số BMI và xét rồi xin kết quả theo dữ liệu sau:\n",
    "\n",
    "- BMI < 16: Gầy cấp độ III\n",
    "- 16 <= BMI < 17:  Gầy cấp độ II\n",
    "- 17<= BMI < 18.5: Gầy cấp độ I\n",
    "- 18.5 <= BMI < 25: Bình thường\n",
    "- 25 <= BMI < 30: Thừa cân\n",
    "- 30 <= BMI < 35 : Béo phì cấp độ I\n",
    "- 35 <= BMI < 40: Béo phì cấp độ II\n",
    "- BMI > 40: Béo phì cấp độ III"
   ]
  },
  {
   "cell_type": "code",
   "execution_count": null,
   "id": "1058f441",
   "metadata": {},
   "outputs": [],
   "source": [
    "can = float(input('Nhập cân nặng: '))\n",
    "cao = float(input('Nhập chiều cao: '))\n",
    "\n",
    "BMI = can / (cao**2)\n",
    "\n",
    "if BMI < 16:\n",
    "    print('Gầy cấp độ III')\n",
    "elif BMI < 17:\n",
    "    print('Gầy cấp độ II')\n",
    "elif BMI < 18.5:\n",
    "    print('Gầy cấp độ I')\n",
    "elif BMI < 25:\n",
    "    print('Bình thường')\n",
    "elif BMI < 30:\n",
    "    print('Thừa cân')\n",
    "elif BMI < 35:\n",
    "    print('Béo phì cấp độ I')\n",
    "elif BMI < 40:\n",
    "    print('Béo phì cấp độ II')\n",
    "else:\n",
    "    print('Béo phì cấp độ III')"
   ]
  },
  {
   "cell_type": "markdown",
   "id": "f7620342",
   "metadata": {},
   "source": [
    "### Bài 7\n",
    "\n",
    "Nhập ngày, tháng, năm. Hãy tính và in ra màn hình kể từ đầu năm đến ngày vừa nhập là bao nhiêu ngày."
   ]
  },
  {
   "cell_type": "code",
   "execution_count": null,
   "id": "4c57f0a5",
   "metadata": {},
   "outputs": [],
   "source": [
    "ngay = int(input('Nhập ngày: '))\n",
    "thang = int(input('Nhập tháng: '))\n",
    "tong_ngay = 0\n",
    "\n",
    "if 1 <= ngay <= 31:\n",
    "    if thang == 1:\n",
    "        print('Kể từ đầu năm đến ngày',ngay,'tháng',thang,'là',ngay)\n",
    "\n",
    "    elif thang <= 8:\n",
    "        tong_ngay += (thang-1)*30 + ngay + thang//2\n",
    "        print('Kể từ đầu năm đến ngày',ngay,'tháng',thang,'là',tong_ngay)\n",
    "\n",
    "    elif 9 <= thang <= 12:\n",
    "            tong_ngay += (thang-1)*30 + ngay + thang//2 + 1\n",
    "            print('Kể từ đầu năm đến ngày',ngay,'tháng',thang,'là',tong_ngay)\n",
    "\n",
    "    else:\n",
    "        print('Nhập lại tháng')\n",
    "        \n",
    "else:\n",
    "    print('Nhập lại ngày')"
   ]
  }
 ],
 "metadata": {
  "kernelspec": {
   "display_name": "Python 3 (ipykernel)",
   "language": "python",
   "name": "python3"
  },
  "language_info": {
   "codemirror_mode": {
    "name": "ipython",
    "version": 3
   },
   "file_extension": ".py",
   "mimetype": "text/x-python",
   "name": "python",
   "nbconvert_exporter": "python",
   "pygments_lexer": "ipython3",
   "version": "3.10.4"
  }
 },
 "nbformat": 4,
 "nbformat_minor": 5
}
