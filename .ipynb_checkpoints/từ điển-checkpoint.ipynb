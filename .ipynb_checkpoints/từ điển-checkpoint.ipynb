{
 "cells": [
  {
   "cell_type": "code",
   "execution_count": null,
   "id": "c50567ff",
   "metadata": {},
   "outputs": [],
   "source": [
    "D = {\n",
    "    'Táo': 'apple',\n",
    "    'Cam': 'Orange',\n",
    "    'Chuối': 'Banana',\n",
    "    'Nho': 'Grape'\n",
    "}\n",
    "def Tu_dien(D):\n",
    "    while True:\n",
    "        word = input('Nhập từ muốn tra, nhập 0 nếu muốn thoát chương trình: ')\n",
    "        if word == '0':\n",
    "            return 'Cảm ơn đã sử dụng chương trình'\n",
    "        elif word in D:\n",
    "            print(D[word])\n",
    "        else:\n",
    "            print('Từ này chưa có trong từ điển')\n",
    "\n",
    "print(Tu_dien(D))"
   ]
  }
 ],
 "metadata": {
  "kernelspec": {
   "display_name": "Python 3 (ipykernel)",
   "language": "python",
   "name": "python3"
  },
  "language_info": {
   "codemirror_mode": {
    "name": "ipython",
    "version": 3
   },
   "file_extension": ".py",
   "mimetype": "text/x-python",
   "name": "python",
   "nbconvert_exporter": "python",
   "pygments_lexer": "ipython3",
   "version": "3.10.4"
  }
 },
 "nbformat": 4,
 "nbformat_minor": 5
}
