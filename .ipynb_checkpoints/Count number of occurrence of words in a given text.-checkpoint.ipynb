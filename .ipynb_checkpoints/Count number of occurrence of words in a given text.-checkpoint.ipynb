{
 "cells": [
  {
   "cell_type": "code",
   "execution_count": null,
   "id": "e5721a22",
   "metadata": {},
   "outputs": [],
   "source": [
    "new = ''\n",
    "for i in vanban:\n",
    "    if i.isalpha() or i == ' ':\n",
    "        new += i\n",
    "\n",
    "vanban = new.split()\n",
    "\n",
    "\n",
    "slt = {}\n",
    "for i in vanban:\n",
    "    i = i.lower()\n",
    "    if i not in slt:\n",
    "        slt[i] = 1\n",
    "    else:\n",
    "        slt[i] +=1\n",
    "print(slt)"
   ]
  }
 ],
 "metadata": {
  "kernelspec": {
   "display_name": "Python 3 (ipykernel)",
   "language": "python",
   "name": "python3"
  },
  "language_info": {
   "codemirror_mode": {
    "name": "ipython",
    "version": 3
   },
   "file_extension": ".py",
   "mimetype": "text/x-python",
   "name": "python",
   "nbconvert_exporter": "python",
   "pygments_lexer": "ipython3",
   "version": "3.10.4"
  }
 },
 "nbformat": 4,
 "nbformat_minor": 5
}
