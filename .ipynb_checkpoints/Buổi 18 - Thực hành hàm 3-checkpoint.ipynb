{
 "cells": [
  {
   "cell_type": "markdown",
   "id": "f13965b3",
   "metadata": {},
   "source": [
    "### Bài 1\n",
    "\n",
    "Viết hàm `tientaxi` tính tiền taxi với tham số đầu vào là số km đi được và trả về số tiền\n",
    "\n",
    "- 1km đầu là 15000.\n",
    "- Từ km thứ 2 đến km thứ 10 là 14000.\n",
    "- Từ km thứ 11 đến km thứ 20 là 12500.\n",
    "- Từ km thứ 21 đến km thứ 30 là 11000.\n",
    "- Trên 30km thì mỗi km tăng thêm là 9000."
   ]
  },
  {
   "cell_type": "code",
   "execution_count": null,
   "id": "112a50d0",
   "metadata": {},
   "outputs": [],
   "source": [
    "def tientaxi(a):\n",
    "    tien = 0\n",
    "    if a > 30:\n",
    "        tien = 9000*(a-30) + 10*(11000 + 12500) + 9*14000 + 15000\n",
    "    elif a > 20:\n",
    "        tien = 11000*(a-20) + 10* 12500 + 9*14000 + 15000\n",
    "    elif a > 10:\n",
    "        tien = 12500*(a-10) + 9*14000 + 15000\n",
    "    elif a > 1:\n",
    "        tien = 14000*(a-1) + 15000\n",
    "    elif 0 < a <= 1:\n",
    "        tien = 15000\n",
    "    return tien\n",
    "\n",
    "         "
   ]
  },
  {
   "cell_type": "markdown",
   "id": "7c40ebdb",
   "metadata": {},
   "source": [
    "### Bài 2\n",
    "\n",
    "Một hãng cung cấp dịch vụ điện thoại khuyến khích người dùng đăng ký số thuê bao mới bằng cách, khi người dùng đến đăng ký thuê báo sẽ được tặng 2 số may mắn n và k, hãng sẽ khuyến mãi cho người đó số tiền vào tài khoản từ số n sau khi xóa k chữ số\n",
    "\n",
    "Hãy viết hàm `tienkm` cho vào n và k, trả về số lớn nhất có thể sau khi xóa k chữ số trong n"
   ]
  },
  {
   "cell_type": "code",
   "execution_count": null,
   "id": "b8b6af8f",
   "metadata": {},
   "outputs": [],
   "source": [
    "n = int(input('Nhập n: '))\n",
    "k = int(input('Nhập k: '))\n",
    "n = str(n)\n",
    "\n",
    "'''\n",
    "Ý tưởng là kiểm tra 2 cặp số cạnh nhau từ trái qua phải\n",
    "(lặp lại việc này k lần là số chữ số lấy ra từ n)\n",
    "để tìm ra số lớn nhất rồi đặt lại n thành đoạn số còn lại \n",
    "và làm tương tự (việc lặp làm tương tự bao nhiêu lần sẽ k biết trước)\n",
    "'''\n",
    "\n",
    "def timvitri(n,k):\n",
    "    vitri = 0\n",
    "    max = 0\n",
    "    if k > len(n):\n",
    "        return None\n",
    "    elif len(n) == k:\n",
    "        vitri = 0\n",
    "    elif len(n) == 1:\n",
    "        vitri = 0\n",
    "    else:\n",
    "        for i in range(k):\n",
    "            '''Lặp với k lần ( là số chữ số cần lấy ra từ số n)\n",
    "            So sánh lần lượt các cặp số từ đầu của n, \n",
    "            tìm được số nhất nhất thì trả về vị trí của số đó'''\n",
    "            if int(n[i]) > int(n[i + 1]) and int(n[i]) >= max:\n",
    "                max = int(n[i])\n",
    "                vitri = i\n",
    "            elif int(n[i]) < int(n[i+1]) and int(n[i+1]) >= max:\n",
    "                max = int(n[i+1])\n",
    "                vitri = i + 1\n",
    "    return vitri\n",
    "\n",
    "def tienkm(n,k):\n",
    "    # Chữ số đầu tiên của tiền km sẽ là n[timvitri(n,k)]\n",
    "    vt = timvitri(n,k) \n",
    "    tien = n[vt] # Tiền km cần tìm sẽ đặt vào biến tien\n",
    "    dodaitien = len(n) - k   # Tìm số chữ số của tiền km\n",
    "    if vt == k:\n",
    "        tien = n[vt:]\n",
    "    else:\n",
    "        while len(tien) != dodaitien: #ĐK dừng là khi độ dài của tien = số chữ số của tiền km\n",
    "            n = n[vt+1:] \n",
    "            k = len(n) - (dodaitien - len(tien)) # k sẽ thay đổi mỗi khi tien được cộng thêm 1 số\n",
    "            vt = timvitri(n,k) \n",
    "            tien += n[vt]\n",
    "    return tien\n",
    "\n",
    "print(tienkm(n,k))\n",
    "    \n",
    "    \n",
    "    "
   ]
  },
  {
   "cell_type": "markdown",
   "id": "4c877020",
   "metadata": {},
   "source": [
    "### Bài 3\n",
    "\n",
    "Cấp số cộng là một dãy số mà kể từ số hạng thứ hai trở đi thì mỗi số hạng hơn số hạng liền trước của nó k đơn vị\n",
    "\n",
    "Ví dụ:\n",
    "- 2, 4, 6, 8, 10,.. là một cấp số cộng với k là 2\n",
    "- 3, 6, 9, 12,... là một cấp số cộng với k là 3\n",
    "\n",
    "Tí đã viết được 4 số là 1 cấp số cộng nhưng Tèo lại xóa đi mất 1 số\n",
    "\n",
    "Bạn hãy viết hàm `timcsc` cho vào 3 số hạng là 3 số còn lại của cấp số cộng, trả về số bị thiếu (trong trường hợp có 2 đáp án, trả về đáp án lớn nhất)\n",
    "\n",
    "Ví dụ:\n",
    "\n",
    "- timcsc(4,6,8) kết quả là 10\n",
    "- timcsc(10,1,4) kết quả là 7"
   ]
  },
  {
   "cell_type": "code",
   "execution_count": 1,
   "id": "6e1fcaf0",
   "metadata": {},
   "outputs": [
    {
     "name": "stdout",
     "output_type": "stream",
     "text": [
      "2\n",
      "4\n",
      "8\n",
      "6\n"
     ]
    }
   ],
   "source": [
    "def timcsc(a,b,c):\n",
    "    sobithieu = 0\n",
    "    if b > a:\n",
    "        a,b = b,a\n",
    "    if c > a:\n",
    "        a,c = c,a\n",
    "    if c > b:\n",
    "        b,c = c,b\n",
    "        \n",
    "    \n",
    "    if a - b == b - c:\n",
    "        sobithieu = a + (a-b)\n",
    "    else:\n",
    "        sobithieu = a + c - b\n",
    "    return sobithieu\n",
    "\n",
    "a = int(input())\n",
    "b = int(input())\n",
    "c = int(input())\n",
    "print(timcsc(a,b,c))\n",
    "    \n",
    "        \n",
    "\n",
    "        \n",
    "\n",
    "        \n",
    "    "
   ]
  }
 ],
 "metadata": {
  "kernelspec": {
   "display_name": "Python 3 (ipykernel)",
   "language": "python",
   "name": "python3"
  },
  "language_info": {
   "codemirror_mode": {
    "name": "ipython",
    "version": 3
   },
   "file_extension": ".py",
   "mimetype": "text/x-python",
   "name": "python",
   "nbconvert_exporter": "python",
   "pygments_lexer": "ipython3",
   "version": "3.10.4"
  }
 },
 "nbformat": 4,
 "nbformat_minor": 5
}
