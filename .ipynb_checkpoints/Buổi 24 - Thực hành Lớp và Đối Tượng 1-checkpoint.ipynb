{
 "cells": [
  {
   "cell_type": "markdown",
   "id": "ec00548e",
   "metadata": {},
   "source": [
    "# Thực hành Lớp và Đối Tượng 1"
   ]
  },
  {
   "cell_type": "markdown",
   "id": "e9a5b1b0",
   "metadata": {},
   "source": [
    "### Bài 1"
   ]
  },
  {
   "cell_type": "markdown",
   "id": "b89649bc",
   "metadata": {},
   "source": [
    "Viết một lớp point để lưu trữ một điểm trong hệ trục tọa độ Oxy\n",
    "\n",
    "Class này có:\n",
    "\n",
    "<b> Các biến: </b>\n",
    "- <b>x</b>: mang tọa độ x của diểm\n",
    "- <b>y</b>: mang tọa độ y của diểm\n",
    "\n",
    "<b> Các hàm: </b>\n",
    "- <b>khoangcachgoc:</b> hàm này trả về khoảng cách từ điểm đến điểm gốc(0,0)\n",
    "- <b>khoangcach(tham số đầu vào là 1 đối tượng có lớp point):</b> hàm này trả về khoảng cách từ điểm đến điểm được đưa vào\n",
    "- <b>diemdoixung:</b> hàm này trả về đối tượng có lớp point là điểm đối xứng của điểm qua điểm gốc(0,0)\n",
    "- <b>diemtrungbinh(tham số đầu vào là 1 đối tượng có lớp point):</b> hàm này trả về đối tượng có lớp point là điểm nằm chính giữa điểm và điểm được đưa vào\n",
    "- <b>thanghang(tham số đầu vào là 2 đối tượng có lớp point):</b> hàm này trả về kết quả kiểm tra 3 điểm có thẳng hằng hay không (True/False)\n",
    "- <b>vuonggoc((tham số đầu vào là 3 đối tượng có lớp point):</b> hàm trả trả về kết quả kiểm tra 4 điểm có tạo thành 2 đường thẳng vuông góc được hay không (True/False)"
   ]
  },
  {
   "cell_type": "code",
   "execution_count": 2,
   "id": "ca30ea7d",
   "metadata": {},
   "outputs": [
    {
     "name": "stdout",
     "output_type": "stream",
     "text": [
      "9.433981132056603\n"
     ]
    }
   ],
   "source": [
    "import math\n",
    "class Point():\n",
    "    def __init__(self,x,y):\n",
    "        self.x = x\n",
    "        self.y = y\n",
    "    def indiem(self):\n",
    "        print('('+ str(self.x) + ',' + str(self.y) + ')')\n",
    "    \n",
    "    def khoangcachgoc(self):\n",
    "        return math.sqrt((self.x)**2 + (self.y)**2)\n",
    "    \n",
    "    def khoangcach(self,Pa):\n",
    "        return math.sqrt((self.x**2 - Pa.x**2) + (self.y**2 - Pa.y**2))\n",
    "    \n",
    "    def diemdoixung(self):\n",
    "        return Point(-self.x,-self.y)\n",
    "    \n",
    "    def diemtrungbinh(self,Pa):\n",
    "        return Point((self.x + Pa.x)/2 , (self.y + Pa.y)/2)\n",
    "    \n",
    "    def thanghang(self,Pa,Pb):\n",
    "        ktra = False\n",
    "        kca = math.sqrt((self.x**2 - Pa.x**2) + (self.y**2 - Pa.y**2))\n",
    "        kcb = math.sqrt((self.x**2 - Pb.x**2) + (self.y**2 - Pb.y**2))\n",
    "        kcab = math.sqrt((Pb.x**2 - Pa.x**2) + (Pb.y**2 - Pa.y**2))\n",
    "        if kca + kcb == kcab:\n",
    "            ktra = True\n",
    "        return ktra\n",
    "    \n",
    "    def vuonggoc(self,Pa,Pb,Pc):\n",
    "        \n",
    "        \n",
    "        \n",
    "        \n",
    "    \n",
    "P1 = Point(8,5)\n",
    "print(P1.khoangcachgoc())"
   ]
  },
  {
   "cell_type": "markdown",
   "id": "59c44a5f",
   "metadata": {},
   "source": [
    "### Bài 2"
   ]
  },
  {
   "cell_type": "markdown",
   "id": "b6f8706c",
   "metadata": {},
   "source": [
    "Viết một lớp line để lưu trữ một đường thẳng trong hệ trục tọa độ Oxy (có dạng ax + by + c = 0)\n",
    "\n",
    "Class này có:\n",
    "\n",
    "<b> Các biến: </b>\n",
    "- <b>a</b>: hệ số a của phương trình\n",
    "- <b>b</b>: hệ số b của phương trình\n",
    "- <b>c</b>: hệ số c của phương trình\n",
    "\n",
    "<b> Các hàm: </b>\n",
    "- <b>khoangcachgoc:</b> hàm này trả về khoảng cách từ đường thẳng đến điểm gốc(0,0)\n",
    "- <b>khoangcach(tham số đầu vào là 1 đối tượng có lớp point):</b> hàm này trả về khoảng cách từ đường thẳng đến điểm được đưa vào\n",
    "- <b>tinhchat(tham số đầu vào là 1 đối tượng có lớp line):</b> hàm này kiểm tra xem 2 đường thẳng cắt nhau hay song song hay trùng nhau (trả về 0: cắt nhau, 1: song song, 2: trùng nhau)\n",
    "- <b>thuocduongthang(tham số đầu vào là 1 đối tượng có lớp point):</b> hàm này trả về kết quả điểm có thuộc đường thẳng hay không (True/False)\n",
    "- <b>duongthangtrungbinh(tham số đầu vào là 1 đối tượng có lớp point):</b> hàm này trả về đối tượng có lớp line là đường thẳng nằm chính giữa đường thẳng và điểm được đưa vào\n",
    "- <b>songsong(tham số đầu vào là 2 đối tượng có lớp point):</b> hàm này trả về kết quả kiểm tra 2 điểm có có tạo đường thẳng song song với đường thẳng hay không (True/False)\n",
    "- <b>vuonggoc((tham số đầu vào là 2 đối tượng có lớp point):</b> hàm này trả về kết quả kiểm tra 2 điểm có có tạo đường thẳng vuông góc với đường thẳng hay không (True/False)"
   ]
  },
  {
   "cell_type": "code",
   "execution_count": null,
   "id": "ce32e9aa",
   "metadata": {},
   "outputs": [],
   "source": [
    "class line:\n",
    "    def __init__(self,a,b,c):\n",
    "        self.a = a\n",
    "        self.b = b\n",
    "        self.c = c\n",
    "    def inline(self):\n",
    "        print(str(self.a) + 'x + ' + str(self.b) + 'y' + str(self.c) + ' = 0')\n",
    "    \n",
    "    def khoangcachgoc(self):\n",
    "        \n"
   ]
  }
 ],
 "metadata": {
  "kernelspec": {
   "display_name": "Python 3 (ipykernel)",
   "language": "python",
   "name": "python3"
  },
  "language_info": {
   "codemirror_mode": {
    "name": "ipython",
    "version": 3
   },
   "file_extension": ".py",
   "mimetype": "text/x-python",
   "name": "python",
   "nbconvert_exporter": "python",
   "pygments_lexer": "ipython3",
   "version": "3.10.4"
  }
 },
 "nbformat": 4,
 "nbformat_minor": 5
}
