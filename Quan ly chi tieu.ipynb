{
 "cells": [
  {
   "cell_type": "code",
   "execution_count": null,
   "id": "5aeb709a",
   "metadata": {},
   "outputs": [],
   "source": [
    "a = ['Tiền nhà','Tiền điện','Tiền nước','Tiền ăn','Tiền xăng','Tiền học','Tiền chi dự phòng']\n",
    "\n",
    "def add(Chitieu,Them):\n",
    "    Chitieu.append(Them)\n",
    "\n",
    "def XoaKhoanChiTieu(Chitieu,Xoa):\n",
    "    k = -1\n",
    "    for i in range(len(Chitieu)):\n",
    "        if Chitieu[i] == Xoa:\n",
    "            k = i\n",
    "    \n",
    "    if k == -1:\n",
    "        print(Xoa,'không có trong mục chi tiêu')\n",
    "    else:\n",
    "        del Chitieu[k]\n",
    "\n",
    "op = int(input('Nhập yêu cầu 1 hoặc 2: '))\n",
    "\n",
    "if op == 1:\n",
    "    them = input('Nhập khoản chi tiêu muốn thêm: ')\n",
    "    add(a,them)\n",
    "    print(a)\n",
    "\n",
    "elif op == 2:\n",
    "    xoa = input('Nhập khoản chi tiêu muốn xoá: ')\n",
    "    XoaKhoanChiTieu(a,xoa)\n",
    "    print(a)\n",
    "\n",
    "else:\n",
    "    print('Không có yêu cầu đó')"
   ]
  }
 ],
 "metadata": {
  "kernelspec": {
   "display_name": "Python 3 (ipykernel)",
   "language": "python",
   "name": "python3"
  },
  "language_info": {
   "codemirror_mode": {
    "name": "ipython",
    "version": 3
   },
   "file_extension": ".py",
   "mimetype": "text/x-python",
   "name": "python",
   "nbconvert_exporter": "python",
   "pygments_lexer": "ipython3",
   "version": "3.10.4"
  }
 },
 "nbformat": 4,
 "nbformat_minor": 5
}
