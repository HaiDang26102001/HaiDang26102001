{
 "cells": [
  {
   "cell_type": "code",
   "execution_count": null,
   "id": "81e6a132",
   "metadata": {},
   "outputs": [],
   "source": [
    "s1 = int(input('Nhập số thứ 1: '))\n",
    "s2 = int(input('Nhập số thứ 2: '))\n",
    "s3 = int(input('Nhập số thứ 3: '))\n",
    "\n",
    "def sapxep(a,b,c):\n",
    "    min = a\n",
    "    if b < min:\n",
    "        min = b\n",
    "        b = a\n",
    "        if b > c:\n",
    "            c,b = b,c\n",
    "            if c < min:\n",
    "                c,min=min,c\n",
    "    elif c < min:\n",
    "        min = c\n",
    "        c = a\n",
    "        c,b=b,c\n",
    "    \n",
    "    else:\n",
    "        if b > c:\n",
    "            c,b=b,c\n",
    "    return min,b,c\n",
    "\n",
    "print(sapxep(s1,s2,s3))"
   ]
  }
 ],
 "metadata": {
  "kernelspec": {
   "display_name": "Python 3 (ipykernel)",
   "language": "python",
   "name": "python3"
  },
  "language_info": {
   "codemirror_mode": {
    "name": "ipython",
    "version": 3
   },
   "file_extension": ".py",
   "mimetype": "text/x-python",
   "name": "python",
   "nbconvert_exporter": "python",
   "pygments_lexer": "ipython3",
   "version": "3.10.4"
  }
 },
 "nbformat": 4,
 "nbformat_minor": 5
}
