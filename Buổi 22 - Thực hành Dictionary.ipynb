{
 "cells": [
  {
   "cell_type": "markdown",
   "id": "636d6b20",
   "metadata": {},
   "source": [
    "# Thực hành Dictionary"
   ]
  },
  {
   "cell_type": "markdown",
   "id": "4a1577c4",
   "metadata": {},
   "source": [
    "### Bài 1"
   ]
  },
  {
   "cell_type": "markdown",
   "id": "57583ad7",
   "metadata": {},
   "source": [
    "Cho list a và list b là 2 dãy số bất kỳ\n",
    "\n",
    "Hãy tìm những phần tử trong 2 list trùng nhau và in toàn bộ ra màn hình\n",
    "\n",
    "Ví dụ:\n",
    "\n",
    "a = [2,4,5,7,9]\n",
    "\n",
    "b = [2,5,10,12,45,65]\n",
    "\n",
    "in ra: 2, 5"
   ]
  },
  {
   "cell_type": "markdown",
   "id": "3bf52ad2",
   "metadata": {},
   "source": [
    "#### Khai báo list"
   ]
  },
  {
   "cell_type": "code",
   "execution_count": null,
   "id": "ff4b8cef",
   "metadata": {},
   "outputs": [],
   "source": [
    "a = [2,4,5,7,9]\n",
    "b = [2,5,10,12,45,65]"
   ]
  },
  {
   "cell_type": "markdown",
   "id": "f7b1767c",
   "metadata": {},
   "source": [
    "#### Code"
   ]
  },
  {
   "cell_type": "code",
   "execution_count": null,
   "id": "8d0bc5c0",
   "metadata": {},
   "outputs": [],
   "source": [
    "a = [2,4,5,7,9]\n",
    "b = [2,5,10,12,45,65]\n",
    "def check(a,b):\n",
    "    c = ''\n",
    "    for i in a:\n",
    "        if str(i) not in c:\n",
    "            if i in b:\n",
    "                c += str(i) +','\n",
    "    return c[:-1]\n",
    "print(check(a,b))"
   ]
  },
  {
   "cell_type": "markdown",
   "id": "2646ccba",
   "metadata": {},
   "source": [
    "### Bài 2"
   ]
  },
  {
   "cell_type": "markdown",
   "id": "6cc6dc38",
   "metadata": {},
   "source": [
    "Cho một dictonary có các giá trị là các số nguyên\n",
    "\n",
    "Hãy viết hàm tìm key có giá trị lớn nhất"
   ]
  },
  {
   "cell_type": "markdown",
   "id": "7b92f0ce",
   "metadata": {},
   "source": [
    "#### Khai báo dictionary"
   ]
  },
  {
   "cell_type": "code",
   "execution_count": null,
   "id": "3ec8ec73",
   "metadata": {},
   "outputs": [],
   "source": [
    "k = {\n",
    "    1:11,\n",
    "    2:33,\n",
    "    3:99,\n",
    "    4:0\n",
    "}"
   ]
  },
  {
   "cell_type": "markdown",
   "id": "65018ab5",
   "metadata": {},
   "source": [
    "#### Code"
   ]
  },
  {
   "cell_type": "code",
   "execution_count": 3,
   "id": "e7a165eb",
   "metadata": {},
   "outputs": [
    {
     "name": "stdout",
     "output_type": "stream",
     "text": [
      "4\n"
     ]
    }
   ],
   "source": [
    "k = {\n",
    "    1:-11,\n",
    "    2:-33,\n",
    "    3:-99,\n",
    "    4:0\n",
    "}\n",
    "def M(K):\n",
    "    max = ''\n",
    "    for i in K:\n",
    "        max = K[i]\n",
    "        break\n",
    "    for i in K:\n",
    "        if K[i] > max:\n",
    "            key = i\n",
    "    return key\n",
    "print(M(k))"
   ]
  },
  {
   "cell_type": "markdown",
   "id": "c562bc84",
   "metadata": {},
   "source": [
    "### Bài 3"
   ]
  },
  {
   "cell_type": "markdown",
   "id": "945e8929",
   "metadata": {},
   "source": [
    "Cho một dictonary có các key đều là chuỗi\n",
    "\n",
    "Hãy viết hàm trả về giá trị của key có độ dài chuỗi là lớn nhất"
   ]
  },
  {
   "cell_type": "markdown",
   "id": "1855bc8c",
   "metadata": {},
   "source": [
    "#### Khai báo dictionary"
   ]
  },
  {
   "cell_type": "code",
   "execution_count": null,
   "id": "5ff9a0e5",
   "metadata": {},
   "outputs": [],
   "source": [
    "k = {\n",
    "    'Đăng': 26,\n",
    "    'Linh': 26,\n",
    "    'Dương': 25\n",
    "}"
   ]
  },
  {
   "cell_type": "markdown",
   "id": "21fae59d",
   "metadata": {},
   "source": [
    "#### Code"
   ]
  },
  {
   "cell_type": "code",
   "execution_count": 6,
   "id": "b3c2194d",
   "metadata": {},
   "outputs": [
    {
     "name": "stdout",
     "output_type": "stream",
     "text": [
      "25\n"
     ]
    }
   ],
   "source": [
    "k = {\n",
    "    'Đăng': 26,\n",
    "    'Linh': 26,\n",
    "    'Dương': 25\n",
    "}\n",
    "\n",
    "def C(K):\n",
    "    max = 0\n",
    "    value = ''\n",
    "    for i in K:\n",
    "        if len(i) > max:\n",
    "            max = len(i)\n",
    "            value = K[i]\n",
    "    return value\n",
    "\n",
    "print(C(k))"
   ]
  },
  {
   "cell_type": "markdown",
   "id": "205c6ef4",
   "metadata": {},
   "source": [
    "### Bài 4"
   ]
  },
  {
   "cell_type": "markdown",
   "id": "bd7ee674",
   "metadata": {},
   "source": [
    "Cho một list là một tập các chuỗi\n",
    "\n",
    "Hãy mã hóa list trên theo nguyên tắc sau:\n",
    "\n",
    "Mỗi một phần tử, ta mã hóa thành những con số theo thứ tự tăng dần\n",
    "\n",
    "Ví dụ:\n",
    "\n",
    "List = [\"đen\",\"vàng\",\"xanh\",\"vàng\",\"xanh\",\"đỏ\",\"hồng\"]\n",
    "\n",
    "List mã hóa = [0,1,2,1,2,3,4]\n",
    "\n",
    "- \"đen\" mã hóa thành 0\n",
    "- \"vàng\" mã hóa thành 1\n",
    "- \"xanh\" mã hóa thành 2\n",
    "- \"đỏ\" mã hòa thánh 3\n",
    "- \"hồng\" mã hòa thành 4"
   ]
  },
  {
   "cell_type": "markdown",
   "id": "e7ed3048",
   "metadata": {},
   "source": [
    "#### Khai báo"
   ]
  },
  {
   "cell_type": "code",
   "execution_count": 1,
   "id": "7573ae07",
   "metadata": {},
   "outputs": [],
   "source": [
    "L = ['đen','vàng','xanh','vàng','xanh','đỏ','hồng']"
   ]
  },
  {
   "cell_type": "markdown",
   "id": "9c61e63b",
   "metadata": {},
   "source": [
    "#### Code"
   ]
  },
  {
   "cell_type": "code",
   "execution_count": 2,
   "id": "3e3cdf86",
   "metadata": {},
   "outputs": [
    {
     "name": "stdout",
     "output_type": "stream",
     "text": [
      "[0, 1, 2, 1, 2, 3, 4]\n"
     ]
    }
   ],
   "source": [
    "L = ['đen','vàng','xanh','vàng','xanh','đỏ','hồng']\n",
    "def Ma_hoa(L):\n",
    "    dem = 0\n",
    "    N = []\n",
    "    ma = {}\n",
    "    for i in range(len(L)):\n",
    "        if L[i] not in ma:\n",
    "            ma[L[i]] = dem\n",
    "            dem += 1\n",
    "        else:\n",
    "            ma[L[i]] = ma[L[i]]\n",
    "    \n",
    "    for j in range(len(L)):\n",
    "        if L[j] in ma:\n",
    "            N.append(ma[L[j]])\n",
    "\n",
    "    return N\n",
    "print(Ma_hoa(L))\n",
    "\n",
    "    \n",
    "\n",
    "\n",
    "\n",
    "\n"
   ]
  },
  {
   "cell_type": "markdown",
   "id": "8de66962",
   "metadata": {},
   "source": [
    "### Bài 5"
   ]
  },
  {
   "cell_type": "markdown",
   "id": "1e5c416d",
   "metadata": {},
   "source": [
    "Hãy viết hàm từ một list mã hóa, trả về list gốc của bài 4"
   ]
  },
  {
   "cell_type": "markdown",
   "id": "4881b7b0",
   "metadata": {},
   "source": [
    "#### Khai báo"
   ]
  },
  {
   "cell_type": "code",
   "execution_count": null,
   "id": "602c7b70",
   "metadata": {},
   "outputs": [],
   "source": [
    "L = [0,1,2,1,2,3,4]"
   ]
  },
  {
   "cell_type": "markdown",
   "id": "9a738638",
   "metadata": {},
   "source": [
    "#### Code"
   ]
  },
  {
   "cell_type": "code",
   "execution_count": 20,
   "id": "df4fb3a1",
   "metadata": {},
   "outputs": [
    {
     "name": "stdout",
     "output_type": "stream",
     "text": [
      "['đen', 'vàng', 'xanh', 'vàng', 'xanh', 'đỏ', 'hồng']\n"
     ]
    }
   ],
   "source": [
    "L = [0,1,2,1,2,3,4]\n",
    "def Ma_hoa(L):\n",
    "    M = {'đen': 0, 'vàng': 1, 'xanh': 2, 'đỏ': 3,'hồng': 4}\n",
    "    N = []\n",
    "    for i in L:\n",
    "        for j in M:\n",
    "            if i == M[j]:\n",
    "                N.append(j)\n",
    "    return N\n",
    "print(Ma_hoa(L))"
   ]
  },
  {
   "cell_type": "markdown",
   "id": "1a982dc5",
   "metadata": {},
   "source": [
    "### Bài 6"
   ]
  },
  {
   "cell_type": "markdown",
   "id": "726f6302",
   "metadata": {},
   "source": [
    "Một khách sạn có N phòng đôi được đánh số từ 1 đến N và M đoàn khách.\n",
    "\n",
    "Với mỗi đoàn khách, ta xếp mỗi cặp khách của đoàn vào một phòng trống theo thứ tự phòng tăng dần.\n",
    "\n",
    "Nếu đoàn khách có số người lẻ thì người khách cuối cùng được xếp vào một phòng trống tiếp theo.\n",
    "\n",
    "Nếu đã hết phòng còn trống thì ta sẽ xếp khách vào những phòng mới chỉ có 1 khách theo thứ tự phòng tăng dần.\n",
    "\n",
    "In ra số khách của mỗi phòng sau khi xếp\n",
    "\n",
    "Giả sử không có 2 đoàn khách nào đến cùng một lúc.\n",
    "\n",
    "#### Ví dụ 1:\n",
    "\n",
    "N = 7, M = 3\n",
    "\n",
    "doankhach = [3,7,3]\n",
    "\n",
    "Ta in: 2, 2, 2, 2, 2, 1, 2\n",
    "\n",
    "#### Ví dụ 2:\n",
    "\n",
    "N = 5, M = 3\n",
    "\n",
    "doankhach = [2,3,2]\n",
    "\n",
    "Ta in: 2, 2, 1, 2, 0"
   ]
  },
  {
   "cell_type": "markdown",
   "id": "e3346872",
   "metadata": {},
   "source": [
    "#### Khai báo"
   ]
  },
  {
   "cell_type": "code",
   "execution_count": null,
   "id": "9f73da45",
   "metadata": {},
   "outputs": [],
   "source": []
  },
  {
   "cell_type": "markdown",
   "id": "8f3d747c",
   "metadata": {},
   "source": [
    "#### Code"
   ]
  },
  {
   "cell_type": "code",
   "execution_count": 21,
   "id": "b19e56c9",
   "metadata": {},
   "outputs": [
    {
     "name": "stdout",
     "output_type": "stream",
     "text": [
      "Nhập số phòng đôi của khách sạn: 7\n",
      "Nhập số đoàn khách: 3\n",
      "Nhập SL khách của đoàn khách thứ 1: 3\n",
      "Nhập SL khách của đoàn khách thứ 2: 7\n",
      "Nhập SL khách của đoàn khách thứ 3: 3\n",
      "[2, 2, 2, 2, 2, 1, 2]\n"
     ]
    }
   ],
   "source": [
    "N = int(input('Nhập số phòng đôi của khách sạn: '))\n",
    "\n",
    "M = int(input('Nhập số đoàn khách: '))\n",
    "\n",
    "couple = []\n",
    "doankhach = {}\n",
    "for i in range(N):\n",
    "    couple.append(0)\n",
    "\n",
    "for k in range(1,M+1):\n",
    "    n = int(input('Nhập SL khách của đoàn khách thứ '+str(k)+': '))\n",
    "    doankhach['SL đoàn khách thứ '+ str(k)] = n \n",
    "\n",
    "def Room(L,s):\n",
    "    if s % 2 == 0:\n",
    "        d = 0\n",
    "        while d < len(L) and s > 0:\n",
    "            if L[d] == 0:\n",
    "                L[d] += 2\n",
    "                s -= 2\n",
    "            d += 1\n",
    "        return s\n",
    "    else:\n",
    "        d = 0\n",
    "        while d < len(L) and s >= 1:\n",
    "            if s == 1 and L[d] == 0:\n",
    "                L[d] += 1\n",
    "                s -= 1\n",
    "            elif L[d] == 0:\n",
    "                L[d] += 2\n",
    "                s -= 2\n",
    "            d += 1\n",
    "        return s\n",
    "\n",
    "def Full(L):\n",
    "    for i in L:\n",
    "        if i == 1:\n",
    "            return False\n",
    "    return True\n",
    "\n",
    "def ADD(L,s):\n",
    "    i = 0\n",
    "    while s != 0 and Full(L) == False:\n",
    "        if L[i] == 1:\n",
    "            L[i] += 1\n",
    "            s -= 1\n",
    "        i += 1\n",
    "\n",
    "def check(D):\n",
    "    for i in D:\n",
    "        if D[i] > 0:\n",
    "            return False\n",
    "    return True\n",
    "\n",
    "for k in doankhach:\n",
    "    doankhach[k] = Room(couple,doankhach[k])\n",
    "\n",
    "if Full(L) == False and check(doankhach) == False:\n",
    "    for j in doankhach:\n",
    "        if doankhach[j] !=0 :\n",
    "            ADD(couple,doankhach[j])\n",
    "\n",
    "print(couple)"
   ]
  }
 ],
 "metadata": {
  "kernelspec": {
   "display_name": "Python 3.10.4 64-bit",
   "language": "python",
   "name": "python3"
  },
  "language_info": {
   "codemirror_mode": {
    "name": "ipython",
    "version": 3
   },
   "file_extension": ".py",
   "mimetype": "text/x-python",
   "name": "python",
   "nbconvert_exporter": "python",
   "pygments_lexer": "ipython3",
   "version": "3.10.4"
  },
  "vscode": {
   "interpreter": {
    "hash": "3f0ab52286cf6eae634fef77b4a6a1e689aa2b21bc6c1a66ca067ecc6290e504"
   }
  }
 },
 "nbformat": 4,
 "nbformat_minor": 5
}
