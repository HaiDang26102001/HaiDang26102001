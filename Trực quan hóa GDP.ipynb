{
 "cells": [
  {
   "cell_type": "code",
   "execution_count": 1,
   "metadata": {},
   "outputs": [],
   "source": [
    "import pandas as pd\n",
    "import matplotlib.pyplot as plt"
   ]
  },
  {
   "cell_type": "code",
   "execution_count": 3,
   "metadata": {},
   "outputs": [
    {
     "data": {
      "text/html": [
       "<div>\n",
       "<style scoped>\n",
       "    .dataframe tbody tr th:only-of-type {\n",
       "        vertical-align: middle;\n",
       "    }\n",
       "\n",
       "    .dataframe tbody tr th {\n",
       "        vertical-align: top;\n",
       "    }\n",
       "\n",
       "    .dataframe thead th {\n",
       "        text-align: right;\n",
       "    }\n",
       "</style>\n",
       "<table border=\"1\" class=\"dataframe\">\n",
       "  <thead>\n",
       "    <tr style=\"text-align: right;\">\n",
       "      <th></th>\n",
       "      <th>Country</th>\n",
       "      <th>Continent</th>\n",
       "      <th>GDP (millions of US$)</th>\n",
       "    </tr>\n",
       "  </thead>\n",
       "  <tbody>\n",
       "    <tr>\n",
       "      <th>0</th>\n",
       "      <td>Afghanistan</td>\n",
       "      <td>Asia</td>\n",
       "      <td>18181</td>\n",
       "    </tr>\n",
       "    <tr>\n",
       "      <th>1</th>\n",
       "      <td>Albania</td>\n",
       "      <td>Europe</td>\n",
       "      <td>12847</td>\n",
       "    </tr>\n",
       "    <tr>\n",
       "      <th>2</th>\n",
       "      <td>Algeria</td>\n",
       "      <td>Africa</td>\n",
       "      <td>190709</td>\n",
       "    </tr>\n",
       "    <tr>\n",
       "      <th>3</th>\n",
       "      <td>Angola</td>\n",
       "      <td>Africa</td>\n",
       "      <td>100948</td>\n",
       "    </tr>\n",
       "    <tr>\n",
       "      <th>4</th>\n",
       "      <td>Argentina</td>\n",
       "      <td>South America</td>\n",
       "      <td>447644</td>\n",
       "    </tr>\n",
       "    <tr>\n",
       "      <th>...</th>\n",
       "      <td>...</td>\n",
       "      <td>...</td>\n",
       "      <td>...</td>\n",
       "    </tr>\n",
       "    <tr>\n",
       "      <th>120</th>\n",
       "      <td>Uzbekistan</td>\n",
       "      <td>Asia</td>\n",
       "      <td>45353</td>\n",
       "    </tr>\n",
       "    <tr>\n",
       "      <th>121</th>\n",
       "      <td>Venezuela</td>\n",
       "      <td>South America</td>\n",
       "      <td>315841</td>\n",
       "    </tr>\n",
       "    <tr>\n",
       "      <th>122</th>\n",
       "      <td>Vietnam</td>\n",
       "      <td>Asia</td>\n",
       "      <td>122722</td>\n",
       "    </tr>\n",
       "    <tr>\n",
       "      <th>123</th>\n",
       "      <td>Yemen</td>\n",
       "      <td>Africa</td>\n",
       "      <td>33675</td>\n",
       "    </tr>\n",
       "    <tr>\n",
       "      <th>124</th>\n",
       "      <td>Zambia</td>\n",
       "      <td>Africa</td>\n",
       "      <td>19206</td>\n",
       "    </tr>\n",
       "  </tbody>\n",
       "</table>\n",
       "<p>125 rows × 3 columns</p>\n",
       "</div>"
      ],
      "text/plain": [
       "          Country      Continent  GDP (millions of US$)\n",
       "0     Afghanistan           Asia                  18181\n",
       "1         Albania         Europe                  12847\n",
       "2         Algeria         Africa                 190709\n",
       "3          Angola         Africa                 100948\n",
       "4       Argentina  South America                 447644\n",
       "..            ...            ...                    ...\n",
       "120    Uzbekistan           Asia                  45353\n",
       "121     Venezuela  South America                 315841\n",
       "122       Vietnam           Asia                 122722\n",
       "123         Yemen         Africa                  33675\n",
       "124        Zambia         Africa                  19206\n",
       "\n",
       "[125 rows x 3 columns]"
      ]
     },
     "execution_count": 3,
     "metadata": {},
     "output_type": "execute_result"
    }
   ],
   "source": [
    "df = pd.read_csv('C:/Users/DD/Desktop/Data Analyst/GDPlist.csv',encoding='ISO-8859-1')\n",
    "df"
   ]
  },
  {
   "cell_type": "code",
   "execution_count": 6,
   "metadata": {},
   "outputs": [
    {
     "data": {
      "text/html": [
       "<div>\n",
       "<style scoped>\n",
       "    .dataframe tbody tr th:only-of-type {\n",
       "        vertical-align: middle;\n",
       "    }\n",
       "\n",
       "    .dataframe tbody tr th {\n",
       "        vertical-align: top;\n",
       "    }\n",
       "\n",
       "    .dataframe thead th {\n",
       "        text-align: right;\n",
       "    }\n",
       "</style>\n",
       "<table border=\"1\" class=\"dataframe\">\n",
       "  <thead>\n",
       "    <tr style=\"text-align: right;\">\n",
       "      <th></th>\n",
       "      <th>Country</th>\n",
       "      <th>Continent</th>\n",
       "      <th>GDP (millions of US$)</th>\n",
       "    </tr>\n",
       "  </thead>\n",
       "  <tbody>\n",
       "    <tr>\n",
       "      <th>4</th>\n",
       "      <td>Argentina</td>\n",
       "      <td>South America</td>\n",
       "      <td>447644</td>\n",
       "    </tr>\n",
       "    <tr>\n",
       "      <th>15</th>\n",
       "      <td>Brazil</td>\n",
       "      <td>South America</td>\n",
       "      <td>2492908</td>\n",
       "    </tr>\n",
       "    <tr>\n",
       "      <th>22</th>\n",
       "      <td>Chile</td>\n",
       "      <td>South America</td>\n",
       "      <td>248411</td>\n",
       "    </tr>\n",
       "    <tr>\n",
       "      <th>24</th>\n",
       "      <td>Colombia</td>\n",
       "      <td>South America</td>\n",
       "      <td>328422</td>\n",
       "    </tr>\n",
       "    <tr>\n",
       "      <th>34</th>\n",
       "      <td>Ecuador</td>\n",
       "      <td>South America</td>\n",
       "      <td>66381</td>\n",
       "    </tr>\n",
       "    <tr>\n",
       "      <th>86</th>\n",
       "      <td>Paraguay</td>\n",
       "      <td>South America</td>\n",
       "      <td>21236</td>\n",
       "    </tr>\n",
       "    <tr>\n",
       "      <th>87</th>\n",
       "      <td>Peru</td>\n",
       "      <td>South America</td>\n",
       "      <td>173502</td>\n",
       "    </tr>\n",
       "    <tr>\n",
       "      <th>119</th>\n",
       "      <td>Uruguay</td>\n",
       "      <td>South America</td>\n",
       "      <td>46872</td>\n",
       "    </tr>\n",
       "    <tr>\n",
       "      <th>121</th>\n",
       "      <td>Venezuela</td>\n",
       "      <td>South America</td>\n",
       "      <td>315841</td>\n",
       "    </tr>\n",
       "  </tbody>\n",
       "</table>\n",
       "</div>"
      ],
      "text/plain": [
       "        Country      Continent  GDP (millions of US$)\n",
       "4     Argentina  South America                 447644\n",
       "15       Brazil  South America                2492908\n",
       "22        Chile  South America                 248411\n",
       "24     Colombia  South America                 328422\n",
       "34      Ecuador  South America                  66381\n",
       "86     Paraguay  South America                  21236\n",
       "87         Peru  South America                 173502\n",
       "119     Uruguay  South America                  46872\n",
       "121   Venezuela  South America                 315841"
      ]
     },
     "execution_count": 6,
     "metadata": {},
     "output_type": "execute_result"
    }
   ],
   "source": [
    "c1 = df[df['Continent'] == 'South America']\n",
    "c1"
   ]
  },
  {
   "cell_type": "code",
   "execution_count": 8,
   "metadata": {},
   "outputs": [
    {
     "data": {
      "image/png": "[encoded data removed]",
      "text/plain": [
       "<Figure size 432x288 with 1 Axes>"
      ]
     },
     "metadata": {
      "needs_background": "light"
     },
     "output_type": "display_data"
    }
   ],
   "source": [
    "plt.bar(c1['Country'],c1['GDP (millions of US$)'])\n",
    "plt.xticks(rotation=45)\n",
    "plt.show()\n"
   ]
  },
  {
   "cell_type": "code",
   "execution_count": 11,
   "metadata": {},
   "outputs": [
    {
     "data": {
      "text/plain": [
       "array(['\\xa0Afghanistan', '\\xa0Albania', '\\xa0Algeria', '\\xa0Angola',\n",
       "       '\\xa0Argentina', '\\xa0Australia', '\\xa0Austria', '\\xa0Azerbaijan',\n",
       "       '\\xa0Bahrain', '\\xa0Bangladesh', '\\xa0Belarus', '\\xa0Belgium',\n",
       "       '\\xa0Bolivia', '\\xa0Bosnia and Herzegovina', '\\xa0Botswana',\n",
       "       '\\xa0Brazil', '\\xa0Brunei', '\\xa0Bulgaria', '\\xa0Burma',\n",
       "       '\\xa0Cambodia', '\\xa0Cameroon', '\\xa0Canada', '\\xa0Chile',\n",
       "       '\\xa0China', '\\xa0Colombia',\n",
       "       '\\xa0Congo, Democratic Republic of the',\n",
       "       '\\xa0Congo, Republic of the', '\\xa0Costa Rica',\n",
       "       \"\\xa0Côte d'Ivoire\", '\\xa0Croatia', '\\xa0Cyprus',\n",
       "       '\\xa0Czech Republic', '\\xa0Denmark', '\\xa0Dominican Republic',\n",
       "       '\\xa0Ecuador', '\\xa0Egypt', '\\xa0El Salvador',\n",
       "       '\\xa0Equatorial Guinea', '\\xa0Estonia', '\\xa0Ethiopia',\n",
       "       '\\xa0Finland', '\\xa0France', '\\xa0Gabon', '\\xa0Georgia',\n",
       "       '\\xa0Germany', '\\xa0Ghana', '\\xa0Greece', '\\xa0Guatemala',\n",
       "       '\\xa0Honduras', '\\xa0Hong Kong', '\\xa0Hungary', '\\xa0Iceland',\n",
       "       '\\xa0India', '\\xa0Indonesia', '\\xa0Iran', '\\xa0Iraq',\n",
       "       '\\xa0Ireland', '\\xa0Israel', '\\xa0Italy', '\\xa0Jamaica',\n",
       "       '\\xa0Japan', '\\xa0Jordan', '\\xa0Kazakhstan', '\\xa0Kenya',\n",
       "       '\\xa0Kuwait', '\\xa0Latvia', '\\xa0Lebanon', '\\xa0Libya',\n",
       "       '\\xa0Lithuania', '\\xa0Luxembourg', '\\xa0Malaysia', '\\xa0Mali',\n",
       "       '\\xa0Mauritius', '\\xa0Mexico', '\\xa0Morocco', '\\xa0Mozambique',\n",
       "       '\\xa0Namibia', '\\xa0Nepal', '\\xa0Netherlands', '\\xa0New Zealand',\n",
       "       '\\xa0Nigeria', '\\xa0Norway', '\\xa0Oman', '\\xa0Pakistan',\n",
       "       '\\xa0Panama', '\\xa0Papua New Guinea', '\\xa0Paraguay', '\\xa0Peru',\n",
       "       '\\xa0Philippines', '\\xa0Poland', '\\xa0Portugal', '\\xa0Qatar',\n",
       "       '\\xa0Romania', '\\xa0Russia', '\\xa0Saudi Arabia', '\\xa0Senegal',\n",
       "       '\\xa0Serbia', '\\xa0Singapore', '\\xa0Slovakia', '\\xa0Slovenia',\n",
       "       '\\xa0South Africa', '\\xa0South Korea', '\\xa0Spain',\n",
       "       '\\xa0Sri Lanka', '\\xa0Sudan + \\xa0South Sudan', '\\xa0Sweden',\n",
       "       '\\xa0Switzerland', '\\xa0Taiwan', '\\xa0Tanzania', '\\xa0Thailand',\n",
       "       '\\xa0Trinidad and Tobago', '\\xa0Tunisia', '\\xa0Turkey',\n",
       "       '\\xa0Turkmenistan', '\\xa0Uganda', '\\xa0Ukraine',\n",
       "       '\\xa0United Arab Emirates', '\\xa0United Kingdom',\n",
       "       '\\xa0United States', '\\xa0Uruguay', '\\xa0Uzbekistan',\n",
       "       '\\xa0Venezuela', '\\xa0Vietnam', '\\xa0Yemen', '\\xa0Zambia'],\n",
       "      dtype=object)"
      ]
     },
     "execution_count": 11,
     "metadata": {},
     "output_type": "execute_result"
    }
   ],
   "source": [
    "df['Country'].unique()"
   ]
  },
  {
   "cell_type": "code",
   "execution_count": 17,
   "metadata": {},
   "outputs": [
    {
     "name": "stderr",
     "output_type": "stream",
     "text": [
      "C:\\Users\\DD\\AppData\\Local\\Temp\\ipykernel_10568\\1085688035.py:6: FutureWarning: The frame.append method is deprecated and will be removed from pandas in a future version. Use pandas.concat instead.\n",
      "  DNA = DNA.append(df.loc[df.loc[:,'Country']==country]) #deprecated\n",
      "C:\\Users\\DD\\AppData\\Local\\Temp\\ipykernel_10568\\1085688035.py:6: FutureWarning: The frame.append method is deprecated and will be removed from pandas in a future version. Use pandas.concat instead.\n",
      "  DNA = DNA.append(df.loc[df.loc[:,'Country']==country]) #deprecated\n",
      "C:\\Users\\DD\\AppData\\Local\\Temp\\ipykernel_10568\\1085688035.py:6: FutureWarning: The frame.append method is deprecated and will be removed from pandas in a future version. Use pandas.concat instead.\n",
      "  DNA = DNA.append(df.loc[df.loc[:,'Country']==country]) #deprecated\n",
      "C:\\Users\\DD\\AppData\\Local\\Temp\\ipykernel_10568\\1085688035.py:6: FutureWarning: The frame.append method is deprecated and will be removed from pandas in a future version. Use pandas.concat instead.\n",
      "  DNA = DNA.append(df.loc[df.loc[:,'Country']==country]) #deprecated\n",
      "C:\\Users\\DD\\AppData\\Local\\Temp\\ipykernel_10568\\1085688035.py:6: FutureWarning: The frame.append method is deprecated and will be removed from pandas in a future version. Use pandas.concat instead.\n",
      "  DNA = DNA.append(df.loc[df.loc[:,'Country']==country]) #deprecated\n"
     ]
    },
    {
     "data": {
      "text/html": [
       "<div>\n",
       "<style scoped>\n",
       "    .dataframe tbody tr th:only-of-type {\n",
       "        vertical-align: middle;\n",
       "    }\n",
       "\n",
       "    .dataframe tbody tr th {\n",
       "        vertical-align: top;\n",
       "    }\n",
       "\n",
       "    .dataframe thead th {\n",
       "        text-align: right;\n",
       "    }\n",
       "</style>\n",
       "<table border=\"1\" class=\"dataframe\">\n",
       "  <thead>\n",
       "    <tr style=\"text-align: right;\">\n",
       "      <th></th>\n",
       "      <th>Country</th>\n",
       "      <th>Continent</th>\n",
       "      <th>GDP (millions of US$)</th>\n",
       "    </tr>\n",
       "  </thead>\n",
       "  <tbody>\n",
       "    <tr>\n",
       "      <th>122</th>\n",
       "      <td>Vietnam</td>\n",
       "      <td>Asia</td>\n",
       "      <td>122722</td>\n",
       "    </tr>\n",
       "    <tr>\n",
       "      <th>53</th>\n",
       "      <td>Indonesia</td>\n",
       "      <td>Asia</td>\n",
       "      <td>845680</td>\n",
       "    </tr>\n",
       "    <tr>\n",
       "      <th>19</th>\n",
       "      <td>Cambodia</td>\n",
       "      <td>Asia</td>\n",
       "      <td>12861</td>\n",
       "    </tr>\n",
       "    <tr>\n",
       "      <th>109</th>\n",
       "      <td>Thailand</td>\n",
       "      <td>Asia</td>\n",
       "      <td>345649</td>\n",
       "    </tr>\n",
       "    <tr>\n",
       "      <th>70</th>\n",
       "      <td>Malaysia</td>\n",
       "      <td>Asia</td>\n",
       "      <td>278680</td>\n",
       "    </tr>\n",
       "  </tbody>\n",
       "</table>\n",
       "</div>"
      ],
      "text/plain": [
       "        Country Continent GDP (millions of US$)\n",
       "122     Vietnam      Asia                122722\n",
       "53    Indonesia      Asia                845680\n",
       "19     Cambodia      Asia                 12861\n",
       "109    Thailand      Asia                345649\n",
       "70     Malaysia      Asia                278680"
      ]
     },
     "execution_count": 17,
     "metadata": {},
     "output_type": "execute_result"
    }
   ],
   "source": [
    "DNA_ = ['\\xa0Vietnam', '\\xa0Indonesia', '\\xa0Cambodia', '\\xa0Thailand', '\\xa0Malaysia']\n",
    "\n",
    "DNA = pd.DataFrame(columns=df.columns)\n",
    "for country in DNA_:\n",
    "    # DNA = pd.concat([DNA, data.loc[data.loc[:,'Country']==country]]) #pd.concat([dt1, dt2], axis)\n",
    "    DNA = DNA.append(df.loc[df.loc[:,'Country']==country]) #deprecated \n",
    "DNA"
   ]
  },
  {
   "cell_type": "code",
   "execution_count": 20,
   "metadata": {},
   "outputs": [
    {
     "data": {
      "image/png": "[encoded data removed]",
      "text/plain": [
       "<Figure size 432x288 with 1 Axes>"
      ]
     },
     "metadata": {},
     "output_type": "display_data"
    }
   ],
   "source": [
    "plt.pie(DNA['GDP (millions of US$)'],labels=DNA['Country'])\n",
    "plt.show()"
   ]
  }
 ],
 "metadata": {
  "kernelspec": {
   "display_name": "Python 3.10.4 64-bit",
   "language": "python",
   "name": "python3"
  },
  "language_info": {
   "codemirror_mode": {
    "name": "ipython",
    "version": 3
   },
   "file_extension": ".py",
   "mimetype": "text/x-python",
   "name": "python",
   "nbconvert_exporter": "python",
   "pygments_lexer": "ipython3",
   "version": "3.10.4"
  },
  "orig_nbformat": 4,
  "vscode": {
   "interpreter": {
    "hash": "3f0ab52286cf6eae634fef77b4a6a1e689aa2b21bc6c1a66ca067ecc6290e504"
   }
  }
 },
 "nbformat": 4,
 "nbformat_minor": 2
}
