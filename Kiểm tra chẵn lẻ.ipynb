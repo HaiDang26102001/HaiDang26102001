{
 "cells": [
  {
   "cell_type": "code",
   "execution_count": 4,
   "id": "5610bc43",
   "metadata": {},
   "outputs": [
    {
     "name": "stdout",
     "output_type": "stream",
     "text": [
      "Nhập số: 7\n",
      "Số lẻ\n"
     ]
    }
   ],
   "source": [
    "a = int(input('Nhập số: '))\n",
    "a = float(a)\n",
    "\n",
    "if a % 2 == 0:\n",
    "    print('Số chẵn')\n",
    "elif a % 2 == 1:\n",
    "    print('Số lẻ')\n",
    "else:\n",
    "    print('Không phải số tự nhiên')\n",
    "    \n"
   ]
  },
  {
   "cell_type": "code",
   "execution_count": null,
   "id": "56e9c77e",
   "metadata": {},
   "outputs": [],
   "source": []
  }
 ],
 "metadata": {
  "kernelspec": {
   "display_name": "Python 3 (ipykernel)",
   "language": "python",
   "name": "python3"
  },
  "language_info": {
   "codemirror_mode": {
    "name": "ipython",
    "version": 3
   },
   "file_extension": ".py",
   "mimetype": "text/x-python",
   "name": "python",
   "nbconvert_exporter": "python",
   "pygments_lexer": "ipython3",
   "version": "3.10.4"
  }
 },
 "nbformat": 4,
 "nbformat_minor": 5
}
