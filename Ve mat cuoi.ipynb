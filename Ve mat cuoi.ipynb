{
 "cells": [
  {
   "cell_type": "code",
   "execution_count": null,
   "id": "89896ab8",
   "metadata": {},
   "outputs": [],
   "source": [
    "import turtle as t\n",
    "# Set pensize\n",
    "t.pensize(5)\n",
    "\n",
    "# Draw face\n",
    "t.circle(100)\n",
    "\n",
    "# Draw eyes\n",
    "t.color('Red','Red')\n",
    "t.begin_fill()\n",
    "t.penup()\n",
    "t.goto(50,150)\n",
    "t.pendown()\n",
    "t.circle(10)\n",
    "t.end_fill()\n",
    "\n",
    "t.color('Red','Red')\n",
    "t.begin_fill()\n",
    "t.penup()\n",
    "t.goto(-50,150)\n",
    "t.pendown()\n",
    "t.circle(10)\n",
    "t.end_fill()\n",
    "\n",
    "# Draw nose\n",
    "\n",
    "t.penup()\n",
    "t.goto(0,100)\n",
    "t.pendown()\n",
    "t.color('Blue','Blue')\n",
    "t.begin_fill()\n",
    "for i in range(3):\n",
    "    t.fd(30)\n",
    "    t.lt(120)\n",
    "t.end_fill()\n",
    "\n",
    "# Draw mouth\n",
    "t.penup()\n",
    "t.goto(-50,50)\n",
    "t.pendown()\n",
    "t.rt(90)\n",
    "t.color('Pink','Pink')\n",
    "t.begin_fill()\n",
    "t.circle(40,180)\n",
    "t.end_fill()"
   ]
  }
 ],
 "metadata": {
  "kernelspec": {
   "display_name": "Python 3 (ipykernel)",
   "language": "python",
   "name": "python3"
  },
  "language_info": {
   "codemirror_mode": {
    "name": "ipython",
    "version": 3
   },
   "file_extension": ".py",
   "mimetype": "text/x-python",
   "name": "python",
   "nbconvert_exporter": "python",
   "pygments_lexer": "ipython3",
   "version": "3.10.4"
  }
 },
 "nbformat": 4,
 "nbformat_minor": 5
}
