{
 "cells": [
  {
   "cell_type": "code",
   "execution_count": null,
   "id": "9efcb196",
   "metadata": {},
   "outputs": [],
   "source": [
    "ngay = int(input('Nhập số: '))\n",
    "\n",
    "if a == 1:\n",
    "    print('Monday')\n",
    "elif a == 2:\n",
    "    print('Tuesday')\n",
    "elif a == 3:\n",
    "    print('Wednesday')\n",
    "elif a == 4:\n",
    "    print('Thursday')\n",
    "elif a == 5:\n",
    "    print('Friday')\n",
    "elif a == 6:\n",
    "    print('Saturday')\n",
    "elif a == 7:\n",
    "    print('Sunday')\n",
    "else:\n",
    "    print('Error, out of range')\n"
   ]
  }
 ],
 "metadata": {
  "kernelspec": {
   "display_name": "Python 3 (ipykernel)",
   "language": "python",
   "name": "python3"
  },
  "language_info": {
   "codemirror_mode": {
    "name": "ipython",
    "version": 3
   },
   "file_extension": ".py",
   "mimetype": "text/x-python",
   "name": "python",
   "nbconvert_exporter": "python",
   "pygments_lexer": "ipython3",
   "version": "3.10.4"
  }
 },
 "nbformat": 4,
 "nbformat_minor": 5
}
