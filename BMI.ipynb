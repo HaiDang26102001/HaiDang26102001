{
 "cells": [
  {
   "cell_type": "code",
   "execution_count": null,
   "id": "39e6f2cb",
   "metadata": {},
   "outputs": [],
   "source": [
    "can = float(input('Nhập cân nặng: '))\n",
    "cao = float(input('Nhập chiều cao: '))\n",
    "\n",
    "BMI = can / (cao**2)\n",
    "\n",
    "if BMI < 16:\n",
    "    print('Gầy cấp độ III')\n",
    "elif BMI < 17:\n",
    "    print('Gầy cấp độ II')\n",
    "elif BMI < 18.5:\n",
    "    print('Gầy cấp độ I')\n",
    "elif BMI < 25:\n",
    "    print('Bình thường')\n",
    "elif BMI < 30:\n",
    "    print('Thừa cân')\n",
    "elif BMI < 35:\n",
    "    print('Béo phì cấp độ I')\n",
    "elif BMI < 40:\n",
    "    print('Béo phì cấp độ II')\n",
    "else:\n",
    "    print('Béo phì cấp độ III')"
   ]
  }
 ],
 "metadata": {
  "kernelspec": {
   "display_name": "Python 3 (ipykernel)",
   "language": "python",
   "name": "python3"
  },
  "language_info": {
   "codemirror_mode": {
    "name": "ipython",
    "version": 3
   },
   "file_extension": ".py",
   "mimetype": "text/x-python",
   "name": "python",
   "nbconvert_exporter": "python",
   "pygments_lexer": "ipython3",
   "version": "3.10.4"
  }
 },
 "nbformat": 4,
 "nbformat_minor": 5
}
