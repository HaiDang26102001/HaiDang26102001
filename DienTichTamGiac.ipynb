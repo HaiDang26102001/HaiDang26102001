{
 "cells": [
  {
   "cell_type": "code",
   "execution_count": null,
   "id": "7a96cdfd",
   "metadata": {},
   "outputs": [],
   "source": [
    "import math \n",
    "a = float(input('Nhap canh a: '))\n",
    "b = float(input('Nhap canh b: '))\n",
    "c = float(input('Nhap canh c: '))\n",
    "\n",
    "s = (a+b+c)/2 # Tinh nua chu vi\n",
    "\n",
    "S = math.sqrt(s*(s-a)*(s-b)*(s-c))\n",
    "\n",
    "print('Dien tich tam giac ABC la: ', S)"
   ]
  }
 ],
 "metadata": {
  "kernelspec": {
   "display_name": "Python 3 (ipykernel)",
   "language": "python",
   "name": "python3"
  },
  "language_info": {
   "codemirror_mode": {
    "name": "ipython",
    "version": 3
   },
   "file_extension": ".py",
   "mimetype": "text/x-python",
   "name": "python",
   "nbconvert_exporter": "python",
   "pygments_lexer": "ipython3",
   "version": "3.10.4"
  }
 },
 "nbformat": 4,
 "nbformat_minor": 5
}
